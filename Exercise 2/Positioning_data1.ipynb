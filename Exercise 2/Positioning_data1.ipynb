{
 "cells": [
  {
   "cell_type": "markdown",
   "id": "0750282a",
   "metadata": {},
   "source": [
    "# Applied Machine Learning (2023), exercises\n",
    "\n",
    "\n",
    "## General instructions for all exercises\n",
    "\n",
    "Follow the instructions and fill in your solution under the line marked by tag\n",
    "\n",
    "> YOUR CODE HERE\n",
    "\n",
    "Remove also line \n",
    "\n",
    "> raise NotImplementedError()\n",
    "\n",
    "**Do not change other areas of the document**, since it may disturb the autograding of your results!\n",
    "  \n",
    "Having written the answer, execute the code cell by and pressing `Shift-Enter` key combination. The code is run, and it may print some information under the code cell. The focus automatically moves to the next cell and you may \"execute\" that cell by pressing `Shift-Enter` again, until you have reached the code cell which tests your solution. Execute that and follow the feedback. Usually it either says that the solution seems acceptable, or reports some errors. You can go back to your solution, modify it and repeat everything until you are satisfied. Then proceed to the next task.\n",
    "   \n",
    "Repeat the process for all tasks.\n",
    "\n",
    "The notebook may also contain manually graded answers. Write your manually graded answer under the line marked by tag:\n",
    "\n",
    "> YOUR ANSWER HERE\n",
    "\n",
    "Manually graded tasks are text in markdown format. It may contain text, pseudocode, or mathematical formulas. You can write formulas with $\\LaTeX$-syntax by enclosing the formula with dollar signs (`$`), for example `$f(x)=2 \\pi / \\alpha$`, will produce $f(x)=2 \\pi / \\alpha$\n",
    "\n",
    "When you have passed the tests in the notebook, and you are ready to submit your solutions, validate and submit your solution using the nbgrader tools from the `Nbgrader/Assignment List`-menu.\n"
   ]
  },
  {
   "cell_type": "code",
   "execution_count": null,
   "id": "649aaad9",
   "metadata": {},
   "outputs": [],
   "source": []
  },
  {
   "cell_type": "markdown",
   "id": "daffe2b8",
   "metadata": {
    "deletable": false,
    "editable": false,
    "nbgrader": {
     "cell_type": "markdown",
     "checksum": "c6f372a4e2a17a31f5fd4cf143ae3454",
     "grade": false,
     "grade_id": "cell-d4870dd21eeb6a3c",
     "locked": true,
     "schema_version": 3,
     "solution": false,
     "task": false
    }
   },
   "source": [
    "# Utilizing positioning data\n",
    "\n",
    "The accompanying dataset contains sensors data from a positioning system, attached to a Leverkusen junior soccer player. The purpose is to collect informatin about each player and the team for player and team development purposes. The data contains sensor readings\n",
    "\n",
    " - Lateral accelarations from Inertial Measuremnt Unit (IMU)\n",
    " - Angular accelerations from IMU\n",
    " - Latitude and longitude from Global Navigation Satellite System (GNSS)\n",
    " - And some other sensor and calculated data\n",
    "\n",
    "Some of the last columns do not contain any values. And some time in the beginning the GNSS positioning is not working, and therefore the latitude and longitude is available only after some time. \n",
    "\n",
    "Each row contains a sensor reading during a specific time. The time interval between the samples (=rows) is 1/100 s. \n",
    "\n",
    "It is easiest to read complex CSV-files with a sophisticated pandas `read_csv()` -function."
   ]
  },
  {
   "cell_type": "code",
   "execution_count": 1,
   "id": "aa2674ce-42fd-464f-870f-9ad57d2c1136",
   "metadata": {},
   "outputs": [],
   "source": [
    "import pandas as pd\n",
    "import matplotlib.pyplot as plt\n",
    "import numpy as np\n",
    "\n",
    "# You can try to use Seaborn. It changes the layout of the graphics, use it if you like\n",
    "import seaborn as sns\n",
    "sns.set()"
   ]
  },
  {
   "cell_type": "markdown",
   "id": "fe141740",
   "metadata": {
    "deletable": false,
    "editable": false,
    "nbgrader": {
     "cell_type": "markdown",
     "checksum": "b97dec94f44647603742fed4fc1f9d28",
     "grade": false,
     "grade_id": "cell-74afa41f6340dc6e",
     "locked": true,
     "schema_version": 3,
     "solution": false,
     "task": false
    }
   },
   "source": [
    "## Read the data\n",
    "\n",
    "1. Examine the data in the editor, to seet what it's structure is (CSV:s are sometimes rather badly formed, in this case it is quite Ok though)\n",
    "1. Read the data from the file `101666_1678179706_4556.csv` to pandas dataframe called as `D_all`. Notice that there are a few first lines which are not in CSV form. They must be skipped.\n",
    "2. Check the first five rows of the data to see that you have correctly read it.\n",
    "3. Assign the number of rows of the whole dataset to varible `n` and number of columns to variable `p`\n",
    "\n",
    "**TIP**: It is a good strategy to place the data reading part (which takes a lot of time and resources) in a separate cell, and read it only once, and the work with it with repetitive tasks in the next cells.\n"
   ]
  },
  {
   "cell_type": "code",
   "execution_count": 2,
   "id": "25ac66c7",
   "metadata": {
    "ExecuteTime": {
     "end_time": "2022-09-20T20:01:32.200637Z",
     "start_time": "2022-09-20T20:01:32.184648Z"
    },
    "deletable": false,
    "nbgrader": {
     "cell_type": "code",
     "checksum": "cd0ece820ff87f8b7fb24177258c4109",
     "grade": false,
     "grade_id": "cell-a60da60f60729901",
     "locked": false,
     "schema_version": 3,
     "solution": true,
     "task": false
    }
   },
   "outputs": [],
   "source": [
    "D_all = pd.read_csv(\"101666_1678179706_4556.csv\", skiprows=3)"
   ]
  },
  {
   "cell_type": "code",
   "execution_count": 3,
   "id": "d9a12672",
   "metadata": {},
   "outputs": [
    {
     "data": {
      "text/html": [
       "<div>\n",
       "<style scoped>\n",
       "    .dataframe tbody tr th:only-of-type {\n",
       "        vertical-align: middle;\n",
       "    }\n",
       "\n",
       "    .dataframe tbody tr th {\n",
       "        vertical-align: top;\n",
       "    }\n",
       "\n",
       "    .dataframe thead th {\n",
       "        text-align: right;\n",
       "    }\n",
       "</style>\n",
       "<table border=\"1\" class=\"dataframe\">\n",
       "  <thead>\n",
       "    <tr style=\"text-align: right;\">\n",
       "      <th></th>\n",
       "      <th>Acceleration.forward</th>\n",
       "      <th>Acceleration.side</th>\n",
       "      <th>Acceleration.up</th>\n",
       "      <th>Rotation.roll</th>\n",
       "      <th>Rotation.pitch</th>\n",
       "      <th>Rotation.yaw</th>\n",
       "      <th>RawPlayerLoad</th>\n",
       "      <th>SmoothedPlayerLoad</th>\n",
       "      <th>imuAcceleration.forward</th>\n",
       "      <th>imuAcceleration.side</th>\n",
       "      <th>...</th>\n",
       "      <th>Longitude</th>\n",
       "      <th>Odometer</th>\n",
       "      <th>RawVelocity</th>\n",
       "      <th>SmoothedVelocity</th>\n",
       "      <th>GNSS.LPS.Acceleration</th>\n",
       "      <th>MetabolicPower</th>\n",
       "      <th>GNSS.Fix</th>\n",
       "      <th>GNSS.Strength</th>\n",
       "      <th>GNSS.HDOP</th>\n",
       "      <th>HeartRate</th>\n",
       "    </tr>\n",
       "  </thead>\n",
       "  <tbody>\n",
       "    <tr>\n",
       "      <th>0</th>\n",
       "      <td>-0.569184</td>\n",
       "      <td>0.520784</td>\n",
       "      <td>0.391072</td>\n",
       "      <td>68.564000</td>\n",
       "      <td>-53.375</td>\n",
       "      <td>8.540</td>\n",
       "      <td>0.457031</td>\n",
       "      <td>0.299429</td>\n",
       "      <td>-0.568404</td>\n",
       "      <td>0.512275</td>\n",
       "      <td>...</td>\n",
       "      <td>NaN</td>\n",
       "      <td>NaN</td>\n",
       "      <td>NaN</td>\n",
       "      <td>NaN</td>\n",
       "      <td>NaN</td>\n",
       "      <td>NaN</td>\n",
       "      <td>NaN</td>\n",
       "      <td>NaN</td>\n",
       "      <td>NaN</td>\n",
       "      <td>0</td>\n",
       "    </tr>\n",
       "    <tr>\n",
       "      <th>1</th>\n",
       "      <td>-0.555148</td>\n",
       "      <td>0.438504</td>\n",
       "      <td>0.498520</td>\n",
       "      <td>55.754000</td>\n",
       "      <td>-32.879</td>\n",
       "      <td>-17.385</td>\n",
       "      <td>0.221680</td>\n",
       "      <td>0.308917</td>\n",
       "      <td>-0.551497</td>\n",
       "      <td>0.418696</td>\n",
       "      <td>...</td>\n",
       "      <td>NaN</td>\n",
       "      <td>NaN</td>\n",
       "      <td>NaN</td>\n",
       "      <td>NaN</td>\n",
       "      <td>NaN</td>\n",
       "      <td>NaN</td>\n",
       "      <td>NaN</td>\n",
       "      <td>NaN</td>\n",
       "      <td>NaN</td>\n",
       "      <td>0</td>\n",
       "    </tr>\n",
       "    <tr>\n",
       "      <th>2</th>\n",
       "      <td>-0.569668</td>\n",
       "      <td>0.408012</td>\n",
       "      <td>0.530948</td>\n",
       "      <td>47.702000</td>\n",
       "      <td>-20.008</td>\n",
       "      <td>-41.358</td>\n",
       "      <td>0.116211</td>\n",
       "      <td>0.318291</td>\n",
       "      <td>-0.561481</td>\n",
       "      <td>0.378393</td>\n",
       "      <td>...</td>\n",
       "      <td>NaN</td>\n",
       "      <td>NaN</td>\n",
       "      <td>NaN</td>\n",
       "      <td>NaN</td>\n",
       "      <td>NaN</td>\n",
       "      <td>NaN</td>\n",
       "      <td>NaN</td>\n",
       "      <td>NaN</td>\n",
       "      <td>NaN</td>\n",
       "      <td>0</td>\n",
       "    </tr>\n",
       "    <tr>\n",
       "      <th>3</th>\n",
       "      <td>-0.600644</td>\n",
       "      <td>0.494648</td>\n",
       "      <td>0.530464</td>\n",
       "      <td>34.465000</td>\n",
       "      <td>-7.198</td>\n",
       "      <td>-59.597</td>\n",
       "      <td>0.085938</td>\n",
       "      <td>0.327529</td>\n",
       "      <td>-0.586356</td>\n",
       "      <td>0.456580</td>\n",
       "      <td>...</td>\n",
       "      <td>NaN</td>\n",
       "      <td>NaN</td>\n",
       "      <td>NaN</td>\n",
       "      <td>NaN</td>\n",
       "      <td>NaN</td>\n",
       "      <td>NaN</td>\n",
       "      <td>NaN</td>\n",
       "      <td>NaN</td>\n",
       "      <td>NaN</td>\n",
       "      <td>0</td>\n",
       "    </tr>\n",
       "    <tr>\n",
       "      <th>4</th>\n",
       "      <td>-0.642268</td>\n",
       "      <td>0.500940</td>\n",
       "      <td>0.577896</td>\n",
       "      <td>24.644001</td>\n",
       "      <td>-4.880</td>\n",
       "      <td>-80.032</td>\n",
       "      <td>0.070312</td>\n",
       "      <td>0.336599</td>\n",
       "      <td>-0.619121</td>\n",
       "      <td>0.451519</td>\n",
       "      <td>...</td>\n",
       "      <td>NaN</td>\n",
       "      <td>NaN</td>\n",
       "      <td>NaN</td>\n",
       "      <td>NaN</td>\n",
       "      <td>NaN</td>\n",
       "      <td>NaN</td>\n",
       "      <td>NaN</td>\n",
       "      <td>NaN</td>\n",
       "      <td>NaN</td>\n",
       "      <td>0</td>\n",
       "    </tr>\n",
       "  </tbody>\n",
       "</table>\n",
       "<p>5 rows × 26 columns</p>\n",
       "</div>"
      ],
      "text/plain": [
       "   Acceleration.forward  Acceleration.side  Acceleration.up  Rotation.roll  \\\n",
       "0             -0.569184           0.520784         0.391072      68.564000   \n",
       "1             -0.555148           0.438504         0.498520      55.754000   \n",
       "2             -0.569668           0.408012         0.530948      47.702000   \n",
       "3             -0.600644           0.494648         0.530464      34.465000   \n",
       "4             -0.642268           0.500940         0.577896      24.644001   \n",
       "\n",
       "   Rotation.pitch  Rotation.yaw  RawPlayerLoad  SmoothedPlayerLoad  \\\n",
       "0         -53.375         8.540       0.457031            0.299429   \n",
       "1         -32.879       -17.385       0.221680            0.308917   \n",
       "2         -20.008       -41.358       0.116211            0.318291   \n",
       "3          -7.198       -59.597       0.085938            0.327529   \n",
       "4          -4.880       -80.032       0.070312            0.336599   \n",
       "\n",
       "   imuAcceleration.forward  imuAcceleration.side  ...  Longitude  Odometer  \\\n",
       "0                -0.568404              0.512275  ...        NaN       NaN   \n",
       "1                -0.551497              0.418696  ...        NaN       NaN   \n",
       "2                -0.561481              0.378393  ...        NaN       NaN   \n",
       "3                -0.586356              0.456580  ...        NaN       NaN   \n",
       "4                -0.619121              0.451519  ...        NaN       NaN   \n",
       "\n",
       "   RawVelocity  SmoothedVelocity  GNSS.LPS.Acceleration  MetabolicPower  \\\n",
       "0          NaN               NaN                    NaN             NaN   \n",
       "1          NaN               NaN                    NaN             NaN   \n",
       "2          NaN               NaN                    NaN             NaN   \n",
       "3          NaN               NaN                    NaN             NaN   \n",
       "4          NaN               NaN                    NaN             NaN   \n",
       "\n",
       "   GNSS.Fix  GNSS.Strength  GNSS.HDOP  HeartRate  \n",
       "0       NaN            NaN        NaN          0  \n",
       "1       NaN            NaN        NaN          0  \n",
       "2       NaN            NaN        NaN          0  \n",
       "3       NaN            NaN        NaN          0  \n",
       "4       NaN            NaN        NaN          0  \n",
       "\n",
       "[5 rows x 26 columns]"
      ]
     },
     "execution_count": 3,
     "metadata": {},
     "output_type": "execute_result"
    }
   ],
   "source": [
    "D_all.head(5)"
   ]
  },
  {
   "cell_type": "code",
   "execution_count": 4,
   "id": "5bc49eee",
   "metadata": {},
   "outputs": [],
   "source": [
    "n, p = D_all.shape"
   ]
  },
  {
   "cell_type": "code",
   "execution_count": 5,
   "id": "7d82cc50-8ebc-4b8e-b867-197fab0551dd",
   "metadata": {
    "ExecuteTime": {
     "end_time": "2022-09-20T20:01:32.200637Z",
     "start_time": "2022-09-20T20:01:32.184648Z"
    },
    "deletable": false,
    "nbgrader": {
     "cell_type": "code",
     "checksum": "2dadbf70ea23c35d1162ebeede671a36",
     "grade": false,
     "grade_id": "cell-a60da60f60729900",
     "locked": false,
     "schema_version": 3,
     "solution": true,
     "task": false
    }
   },
   "outputs": [
    {
     "data": {
      "text/plain": [
       "(455611, 26)"
      ]
     },
     "execution_count": 5,
     "metadata": {},
     "output_type": "execute_result"
    }
   ],
   "source": [
    "D_all.shape"
   ]
  },
  {
   "cell_type": "code",
   "execution_count": 6,
   "id": "d2361d87",
   "metadata": {},
   "outputs": [
    {
     "data": {
      "text/html": [
       "<div>\n",
       "<style scoped>\n",
       "    .dataframe tbody tr th:only-of-type {\n",
       "        vertical-align: middle;\n",
       "    }\n",
       "\n",
       "    .dataframe tbody tr th {\n",
       "        vertical-align: top;\n",
       "    }\n",
       "\n",
       "    .dataframe thead th {\n",
       "        text-align: right;\n",
       "    }\n",
       "</style>\n",
       "<table border=\"1\" class=\"dataframe\">\n",
       "  <thead>\n",
       "    <tr style=\"text-align: right;\">\n",
       "      <th></th>\n",
       "      <th>Acceleration.forward</th>\n",
       "      <th>Acceleration.side</th>\n",
       "      <th>Acceleration.up</th>\n",
       "      <th>Rotation.roll</th>\n",
       "      <th>Rotation.pitch</th>\n",
       "      <th>Rotation.yaw</th>\n",
       "      <th>RawPlayerLoad</th>\n",
       "      <th>SmoothedPlayerLoad</th>\n",
       "      <th>imuAcceleration.forward</th>\n",
       "      <th>imuAcceleration.side</th>\n",
       "      <th>...</th>\n",
       "      <th>Longitude</th>\n",
       "      <th>Odometer</th>\n",
       "      <th>RawVelocity</th>\n",
       "      <th>SmoothedVelocity</th>\n",
       "      <th>GNSS.LPS.Acceleration</th>\n",
       "      <th>MetabolicPower</th>\n",
       "      <th>GNSS.Fix</th>\n",
       "      <th>GNSS.Strength</th>\n",
       "      <th>GNSS.HDOP</th>\n",
       "      <th>HeartRate</th>\n",
       "    </tr>\n",
       "  </thead>\n",
       "  <tbody>\n",
       "    <tr>\n",
       "      <th>count</th>\n",
       "      <td>455611.000000</td>\n",
       "      <td>455611.000000</td>\n",
       "      <td>455611.000000</td>\n",
       "      <td>455611.000000</td>\n",
       "      <td>455611.000000</td>\n",
       "      <td>455611.000000</td>\n",
       "      <td>455611.000000</td>\n",
       "      <td>455611.000000</td>\n",
       "      <td>455611.000000</td>\n",
       "      <td>455611.000000</td>\n",
       "      <td>...</td>\n",
       "      <td>28834.000000</td>\n",
       "      <td>28834.000000</td>\n",
       "      <td>28834.000000</td>\n",
       "      <td>28834.000000</td>\n",
       "      <td>2.883400e+04</td>\n",
       "      <td>28834.000000</td>\n",
       "      <td>28834.000000</td>\n",
       "      <td>28834.000000</td>\n",
       "      <td>28834.000000</td>\n",
       "      <td>455611.0</td>\n",
       "    </tr>\n",
       "    <tr>\n",
       "      <th>mean</th>\n",
       "      <td>-0.406693</td>\n",
       "      <td>0.042882</td>\n",
       "      <td>0.702822</td>\n",
       "      <td>0.403699</td>\n",
       "      <td>-0.542466</td>\n",
       "      <td>0.493093</td>\n",
       "      <td>0.078617</td>\n",
       "      <td>0.312630</td>\n",
       "      <td>-0.005387</td>\n",
       "      <td>-0.001300</td>\n",
       "      <td>...</td>\n",
       "      <td>6.999042</td>\n",
       "      <td>1242.720728</td>\n",
       "      <td>0.819955</td>\n",
       "      <td>0.802380</td>\n",
       "      <td>4.109615e-05</td>\n",
       "      <td>3.770969</td>\n",
       "      <td>15.021329</td>\n",
       "      <td>4.863876</td>\n",
       "      <td>0.737691</td>\n",
       "      <td>0.0</td>\n",
       "    </tr>\n",
       "    <tr>\n",
       "      <th>std</th>\n",
       "      <td>0.414722</td>\n",
       "      <td>0.329580</td>\n",
       "      <td>0.646886</td>\n",
       "      <td>46.404008</td>\n",
       "      <td>50.671921</td>\n",
       "      <td>70.492233</td>\n",
       "      <td>0.203868</td>\n",
       "      <td>0.472539</td>\n",
       "      <td>0.203405</td>\n",
       "      <td>0.235256</td>\n",
       "      <td>...</td>\n",
       "      <td>0.000217</td>\n",
       "      <td>712.472186</td>\n",
       "      <td>0.879645</td>\n",
       "      <td>0.868651</td>\n",
       "      <td>4.486178e-01</td>\n",
       "      <td>5.053830</td>\n",
       "      <td>1.543886</td>\n",
       "      <td>1.691259</td>\n",
       "      <td>0.199608</td>\n",
       "      <td>0.0</td>\n",
       "    </tr>\n",
       "    <tr>\n",
       "      <th>min</th>\n",
       "      <td>-14.844764</td>\n",
       "      <td>-15.317147</td>\n",
       "      <td>-5.455648</td>\n",
       "      <td>-1005.219000</td>\n",
       "      <td>-1988.478000</td>\n",
       "      <td>-1998.787000</td>\n",
       "      <td>0.000000</td>\n",
       "      <td>0.000000</td>\n",
       "      <td>-9.687399</td>\n",
       "      <td>-14.046674</td>\n",
       "      <td>...</td>\n",
       "      <td>6.998607</td>\n",
       "      <td>0.000000</td>\n",
       "      <td>0.000500</td>\n",
       "      <td>0.000000</td>\n",
       "      <td>-3.146602e+00</td>\n",
       "      <td>-0.000012</td>\n",
       "      <td>5.000000</td>\n",
       "      <td>0.000000</td>\n",
       "      <td>0.610000</td>\n",
       "      <td>0.0</td>\n",
       "    </tr>\n",
       "    <tr>\n",
       "      <th>25%</th>\n",
       "      <td>-0.732292</td>\n",
       "      <td>-0.099704</td>\n",
       "      <td>0.162140</td>\n",
       "      <td>-7.442000</td>\n",
       "      <td>-7.869000</td>\n",
       "      <td>-10.065001</td>\n",
       "      <td>0.003418</td>\n",
       "      <td>0.010249</td>\n",
       "      <td>-0.027591</td>\n",
       "      <td>-0.037511</td>\n",
       "      <td>...</td>\n",
       "      <td>6.998914</td>\n",
       "      <td>660.525250</td>\n",
       "      <td>0.078500</td>\n",
       "      <td>0.079256</td>\n",
       "      <td>-1.433313e-01</td>\n",
       "      <td>0.353228</td>\n",
       "      <td>14.000000</td>\n",
       "      <td>4.000000</td>\n",
       "      <td>0.670000</td>\n",
       "      <td>0.0</td>\n",
       "    </tr>\n",
       "    <tr>\n",
       "      <th>50%</th>\n",
       "      <td>-0.298144</td>\n",
       "      <td>0.038236</td>\n",
       "      <td>0.892980</td>\n",
       "      <td>0.000000</td>\n",
       "      <td>-0.061000</td>\n",
       "      <td>0.061000</td>\n",
       "      <td>0.020996</td>\n",
       "      <td>0.132820</td>\n",
       "      <td>0.000073</td>\n",
       "      <td>0.001297</td>\n",
       "      <td>...</td>\n",
       "      <td>6.999038</td>\n",
       "      <td>1158.871500</td>\n",
       "      <td>0.596500</td>\n",
       "      <td>0.575096</td>\n",
       "      <td>-5.043686e-07</td>\n",
       "      <td>2.415577</td>\n",
       "      <td>15.000000</td>\n",
       "      <td>5.000000</td>\n",
       "      <td>0.700000</td>\n",
       "      <td>0.0</td>\n",
       "    </tr>\n",
       "    <tr>\n",
       "      <th>75%</th>\n",
       "      <td>-0.157784</td>\n",
       "      <td>0.201828</td>\n",
       "      <td>0.986876</td>\n",
       "      <td>7.259000</td>\n",
       "      <td>5.978000</td>\n",
       "      <td>11.834001</td>\n",
       "      <td>0.074219</td>\n",
       "      <td>0.339541</td>\n",
       "      <td>0.031784</td>\n",
       "      <td>0.036223</td>\n",
       "      <td>...</td>\n",
       "      <td>6.999136</td>\n",
       "      <td>1979.485100</td>\n",
       "      <td>1.236500</td>\n",
       "      <td>1.234441</td>\n",
       "      <td>1.016305e-01</td>\n",
       "      <td>5.312170</td>\n",
       "      <td>16.000000</td>\n",
       "      <td>6.000000</td>\n",
       "      <td>0.750000</td>\n",
       "      <td>0.0</td>\n",
       "    </tr>\n",
       "    <tr>\n",
       "      <th>max</th>\n",
       "      <td>11.735548</td>\n",
       "      <td>9.830040</td>\n",
       "      <td>15.799212</td>\n",
       "      <td>1998.360000</td>\n",
       "      <td>2000.983000</td>\n",
       "      <td>1998.787000</td>\n",
       "      <td>9.613281</td>\n",
       "      <td>4.342911</td>\n",
       "      <td>13.028172</td>\n",
       "      <td>14.516465</td>\n",
       "      <td>...</td>\n",
       "      <td>7.000157</td>\n",
       "      <td>2451.855200</td>\n",
       "      <td>6.681500</td>\n",
       "      <td>6.464076</td>\n",
       "      <td>3.825590e+00</td>\n",
       "      <td>73.006290</td>\n",
       "      <td>17.000000</td>\n",
       "      <td>11.000000</td>\n",
       "      <td>5.310000</td>\n",
       "      <td>0.0</td>\n",
       "    </tr>\n",
       "  </tbody>\n",
       "</table>\n",
       "<p>8 rows × 26 columns</p>\n",
       "</div>"
      ],
      "text/plain": [
       "       Acceleration.forward  Acceleration.side  Acceleration.up  \\\n",
       "count         455611.000000      455611.000000    455611.000000   \n",
       "mean              -0.406693           0.042882         0.702822   \n",
       "std                0.414722           0.329580         0.646886   \n",
       "min              -14.844764         -15.317147        -5.455648   \n",
       "25%               -0.732292          -0.099704         0.162140   \n",
       "50%               -0.298144           0.038236         0.892980   \n",
       "75%               -0.157784           0.201828         0.986876   \n",
       "max               11.735548           9.830040        15.799212   \n",
       "\n",
       "       Rotation.roll  Rotation.pitch   Rotation.yaw  RawPlayerLoad  \\\n",
       "count  455611.000000   455611.000000  455611.000000  455611.000000   \n",
       "mean        0.403699       -0.542466       0.493093       0.078617   \n",
       "std        46.404008       50.671921      70.492233       0.203868   \n",
       "min     -1005.219000    -1988.478000   -1998.787000       0.000000   \n",
       "25%        -7.442000       -7.869000     -10.065001       0.003418   \n",
       "50%         0.000000       -0.061000       0.061000       0.020996   \n",
       "75%         7.259000        5.978000      11.834001       0.074219   \n",
       "max      1998.360000     2000.983000    1998.787000       9.613281   \n",
       "\n",
       "       SmoothedPlayerLoad  imuAcceleration.forward  imuAcceleration.side  ...  \\\n",
       "count       455611.000000            455611.000000         455611.000000  ...   \n",
       "mean             0.312630                -0.005387             -0.001300  ...   \n",
       "std              0.472539                 0.203405              0.235256  ...   \n",
       "min              0.000000                -9.687399            -14.046674  ...   \n",
       "25%              0.010249                -0.027591             -0.037511  ...   \n",
       "50%              0.132820                 0.000073              0.001297  ...   \n",
       "75%              0.339541                 0.031784              0.036223  ...   \n",
       "max              4.342911                13.028172             14.516465  ...   \n",
       "\n",
       "          Longitude      Odometer   RawVelocity  SmoothedVelocity  \\\n",
       "count  28834.000000  28834.000000  28834.000000      28834.000000   \n",
       "mean       6.999042   1242.720728      0.819955          0.802380   \n",
       "std        0.000217    712.472186      0.879645          0.868651   \n",
       "min        6.998607      0.000000      0.000500          0.000000   \n",
       "25%        6.998914    660.525250      0.078500          0.079256   \n",
       "50%        6.999038   1158.871500      0.596500          0.575096   \n",
       "75%        6.999136   1979.485100      1.236500          1.234441   \n",
       "max        7.000157   2451.855200      6.681500          6.464076   \n",
       "\n",
       "       GNSS.LPS.Acceleration  MetabolicPower      GNSS.Fix  GNSS.Strength  \\\n",
       "count           2.883400e+04    28834.000000  28834.000000   28834.000000   \n",
       "mean            4.109615e-05        3.770969     15.021329       4.863876   \n",
       "std             4.486178e-01        5.053830      1.543886       1.691259   \n",
       "min            -3.146602e+00       -0.000012      5.000000       0.000000   \n",
       "25%            -1.433313e-01        0.353228     14.000000       4.000000   \n",
       "50%            -5.043686e-07        2.415577     15.000000       5.000000   \n",
       "75%             1.016305e-01        5.312170     16.000000       6.000000   \n",
       "max             3.825590e+00       73.006290     17.000000      11.000000   \n",
       "\n",
       "          GNSS.HDOP  HeartRate  \n",
       "count  28834.000000   455611.0  \n",
       "mean       0.737691        0.0  \n",
       "std        0.199608        0.0  \n",
       "min        0.610000        0.0  \n",
       "25%        0.670000        0.0  \n",
       "50%        0.700000        0.0  \n",
       "75%        0.750000        0.0  \n",
       "max        5.310000        0.0  \n",
       "\n",
       "[8 rows x 26 columns]"
      ]
     },
     "execution_count": 6,
     "metadata": {},
     "output_type": "execute_result"
    }
   ],
   "source": [
    "D_all.describe()"
   ]
  },
  {
   "cell_type": "code",
   "execution_count": 7,
   "id": "91320897",
   "metadata": {},
   "outputs": [
    {
     "name": "stdout",
     "output_type": "stream",
     "text": [
      "<class 'pandas.core.frame.DataFrame'>\n",
      "RangeIndex: 455611 entries, 0 to 455610\n",
      "Data columns (total 26 columns):\n",
      " #   Column                   Non-Null Count   Dtype  \n",
      "---  ------                   --------------   -----  \n",
      " 0   Acceleration.forward     455611 non-null  float64\n",
      " 1   Acceleration.side        455611 non-null  float64\n",
      " 2   Acceleration.up          455611 non-null  float64\n",
      " 3   Rotation.roll            455611 non-null  float64\n",
      " 4   Rotation.pitch           455611 non-null  float64\n",
      " 5   Rotation.yaw             455611 non-null  float64\n",
      " 6   RawPlayerLoad            455611 non-null  float64\n",
      " 7   SmoothedPlayerLoad       455611 non-null  float64\n",
      " 8   imuAcceleration.forward  455611 non-null  float64\n",
      " 9   imuAcceleration.side     455611 non-null  float64\n",
      " 10  imuAcceleration.up       455611 non-null  float64\n",
      " 11  imuOrientation.forward   455611 non-null  float64\n",
      " 12  imuOrientation.side      455611 non-null  float64\n",
      " 13  imuOrientation.up        455611 non-null  float64\n",
      " 14  Facing                   455611 non-null  float64\n",
      " 15  Latitude                 28834 non-null   float64\n",
      " 16  Longitude                28834 non-null   float64\n",
      " 17  Odometer                 28834 non-null   float64\n",
      " 18  RawVelocity              28834 non-null   float64\n",
      " 19  SmoothedVelocity         28834 non-null   float64\n",
      " 20  GNSS.LPS.Acceleration    28834 non-null   float64\n",
      " 21  MetabolicPower           28834 non-null   float64\n",
      " 22  GNSS.Fix                 28834 non-null   float64\n",
      " 23  GNSS.Strength            28834 non-null   float64\n",
      " 24  GNSS.HDOP                28834 non-null   float64\n",
      " 25  HeartRate                455611 non-null  int64  \n",
      "dtypes: float64(25), int64(1)\n",
      "memory usage: 90.4 MB\n"
     ]
    }
   ],
   "source": [
    "D_all.info()"
   ]
  },
  {
   "cell_type": "code",
   "execution_count": 8,
   "id": "d7070351",
   "metadata": {
    "ExecuteTime": {
     "end_time": "2022-09-20T20:41:10.962289Z",
     "start_time": "2022-09-20T20:41:10.936391Z"
    },
    "deletable": false,
    "editable": false,
    "nbgrader": {
     "cell_type": "code",
     "checksum": "ea37408138f6e3b6f9fbc480b30eaea7",
     "grade": true,
     "grade_id": "cell-bc4eaa98d5b95c59",
     "locked": true,
     "points": 2,
     "schema_version": 3,
     "solution": false,
     "task": false
    }
   },
   "outputs": [
    {
     "name": "stdout",
     "output_type": "stream",
     "text": [
      "No errors found this far. Your code may work.\n"
     ]
    }
   ],
   "source": [
    "if 'D_all' not in globals():\n",
    "    print(\"D_all not found! Please read the data to D_all.\")\n",
    "elif type(D_all)!=pd.DataFrame:\n",
    "    print(f\"D_all is not a pandas data frame\", type(D_all))\n",
    "elif 'n' not in globals():\n",
    "    print(\"n not found! Please assign the number of rows in D_all to n.\")\n",
    "elif 'p' not in globals():\n",
    "    print(\"p not found! Please assign the number of columns in D_all to p\")\n",
    "else:\n",
    "    print(\"No errors found this far. Your code may work.\")\n"
   ]
  },
  {
   "cell_type": "markdown",
   "id": "e0f3db40",
   "metadata": {
    "deletable": false,
    "editable": false,
    "nbgrader": {
     "cell_type": "markdown",
     "checksum": "e7cdafa774f56b941aed888e2a174f4c",
     "grade": false,
     "grade_id": "cell-e597abe8a05b8f2e",
     "locked": true,
     "schema_version": 3,
     "solution": false,
     "task": false
    }
   },
   "source": [
    "## Remove rows with missing coordinate data\n",
    "\n",
    "1. Study the data with the `describe()` -function. How many values there are in each column. Assign in variable `nL`, How many rows have data ain `Longitude` -column.\n",
    "2. Drop each row, where the Longitude-value is missing. and assign the result to new data-frame `D`"
   ]
  },
  {
   "cell_type": "code",
   "execution_count": 9,
   "id": "993e241b",
   "metadata": {},
   "outputs": [
    {
     "data": {
      "text/html": [
       "<div>\n",
       "<style scoped>\n",
       "    .dataframe tbody tr th:only-of-type {\n",
       "        vertical-align: middle;\n",
       "    }\n",
       "\n",
       "    .dataframe tbody tr th {\n",
       "        vertical-align: top;\n",
       "    }\n",
       "\n",
       "    .dataframe thead th {\n",
       "        text-align: right;\n",
       "    }\n",
       "</style>\n",
       "<table border=\"1\" class=\"dataframe\">\n",
       "  <thead>\n",
       "    <tr style=\"text-align: right;\">\n",
       "      <th></th>\n",
       "      <th>Acceleration.forward</th>\n",
       "      <th>Acceleration.side</th>\n",
       "      <th>Acceleration.up</th>\n",
       "      <th>Rotation.roll</th>\n",
       "      <th>Rotation.pitch</th>\n",
       "      <th>Rotation.yaw</th>\n",
       "      <th>RawPlayerLoad</th>\n",
       "      <th>SmoothedPlayerLoad</th>\n",
       "      <th>imuAcceleration.forward</th>\n",
       "      <th>imuAcceleration.side</th>\n",
       "      <th>...</th>\n",
       "      <th>Longitude</th>\n",
       "      <th>Odometer</th>\n",
       "      <th>RawVelocity</th>\n",
       "      <th>SmoothedVelocity</th>\n",
       "      <th>GNSS.LPS.Acceleration</th>\n",
       "      <th>MetabolicPower</th>\n",
       "      <th>GNSS.Fix</th>\n",
       "      <th>GNSS.Strength</th>\n",
       "      <th>GNSS.HDOP</th>\n",
       "      <th>HeartRate</th>\n",
       "    </tr>\n",
       "  </thead>\n",
       "  <tbody>\n",
       "    <tr>\n",
       "      <th>count</th>\n",
       "      <td>455611.000000</td>\n",
       "      <td>455611.000000</td>\n",
       "      <td>455611.000000</td>\n",
       "      <td>455611.000000</td>\n",
       "      <td>455611.000000</td>\n",
       "      <td>455611.000000</td>\n",
       "      <td>455611.000000</td>\n",
       "      <td>455611.000000</td>\n",
       "      <td>455611.000000</td>\n",
       "      <td>455611.000000</td>\n",
       "      <td>...</td>\n",
       "      <td>28834.000000</td>\n",
       "      <td>28834.000000</td>\n",
       "      <td>28834.000000</td>\n",
       "      <td>28834.000000</td>\n",
       "      <td>2.883400e+04</td>\n",
       "      <td>28834.000000</td>\n",
       "      <td>28834.000000</td>\n",
       "      <td>28834.000000</td>\n",
       "      <td>28834.000000</td>\n",
       "      <td>455611.0</td>\n",
       "    </tr>\n",
       "    <tr>\n",
       "      <th>mean</th>\n",
       "      <td>-0.406693</td>\n",
       "      <td>0.042882</td>\n",
       "      <td>0.702822</td>\n",
       "      <td>0.403699</td>\n",
       "      <td>-0.542466</td>\n",
       "      <td>0.493093</td>\n",
       "      <td>0.078617</td>\n",
       "      <td>0.312630</td>\n",
       "      <td>-0.005387</td>\n",
       "      <td>-0.001300</td>\n",
       "      <td>...</td>\n",
       "      <td>6.999042</td>\n",
       "      <td>1242.720728</td>\n",
       "      <td>0.819955</td>\n",
       "      <td>0.802380</td>\n",
       "      <td>4.109615e-05</td>\n",
       "      <td>3.770969</td>\n",
       "      <td>15.021329</td>\n",
       "      <td>4.863876</td>\n",
       "      <td>0.737691</td>\n",
       "      <td>0.0</td>\n",
       "    </tr>\n",
       "    <tr>\n",
       "      <th>std</th>\n",
       "      <td>0.414722</td>\n",
       "      <td>0.329580</td>\n",
       "      <td>0.646886</td>\n",
       "      <td>46.404008</td>\n",
       "      <td>50.671921</td>\n",
       "      <td>70.492233</td>\n",
       "      <td>0.203868</td>\n",
       "      <td>0.472539</td>\n",
       "      <td>0.203405</td>\n",
       "      <td>0.235256</td>\n",
       "      <td>...</td>\n",
       "      <td>0.000217</td>\n",
       "      <td>712.472186</td>\n",
       "      <td>0.879645</td>\n",
       "      <td>0.868651</td>\n",
       "      <td>4.486178e-01</td>\n",
       "      <td>5.053830</td>\n",
       "      <td>1.543886</td>\n",
       "      <td>1.691259</td>\n",
       "      <td>0.199608</td>\n",
       "      <td>0.0</td>\n",
       "    </tr>\n",
       "    <tr>\n",
       "      <th>min</th>\n",
       "      <td>-14.844764</td>\n",
       "      <td>-15.317147</td>\n",
       "      <td>-5.455648</td>\n",
       "      <td>-1005.219000</td>\n",
       "      <td>-1988.478000</td>\n",
       "      <td>-1998.787000</td>\n",
       "      <td>0.000000</td>\n",
       "      <td>0.000000</td>\n",
       "      <td>-9.687399</td>\n",
       "      <td>-14.046674</td>\n",
       "      <td>...</td>\n",
       "      <td>6.998607</td>\n",
       "      <td>0.000000</td>\n",
       "      <td>0.000500</td>\n",
       "      <td>0.000000</td>\n",
       "      <td>-3.146602e+00</td>\n",
       "      <td>-0.000012</td>\n",
       "      <td>5.000000</td>\n",
       "      <td>0.000000</td>\n",
       "      <td>0.610000</td>\n",
       "      <td>0.0</td>\n",
       "    </tr>\n",
       "    <tr>\n",
       "      <th>25%</th>\n",
       "      <td>-0.732292</td>\n",
       "      <td>-0.099704</td>\n",
       "      <td>0.162140</td>\n",
       "      <td>-7.442000</td>\n",
       "      <td>-7.869000</td>\n",
       "      <td>-10.065001</td>\n",
       "      <td>0.003418</td>\n",
       "      <td>0.010249</td>\n",
       "      <td>-0.027591</td>\n",
       "      <td>-0.037511</td>\n",
       "      <td>...</td>\n",
       "      <td>6.998914</td>\n",
       "      <td>660.525250</td>\n",
       "      <td>0.078500</td>\n",
       "      <td>0.079256</td>\n",
       "      <td>-1.433313e-01</td>\n",
       "      <td>0.353228</td>\n",
       "      <td>14.000000</td>\n",
       "      <td>4.000000</td>\n",
       "      <td>0.670000</td>\n",
       "      <td>0.0</td>\n",
       "    </tr>\n",
       "    <tr>\n",
       "      <th>50%</th>\n",
       "      <td>-0.298144</td>\n",
       "      <td>0.038236</td>\n",
       "      <td>0.892980</td>\n",
       "      <td>0.000000</td>\n",
       "      <td>-0.061000</td>\n",
       "      <td>0.061000</td>\n",
       "      <td>0.020996</td>\n",
       "      <td>0.132820</td>\n",
       "      <td>0.000073</td>\n",
       "      <td>0.001297</td>\n",
       "      <td>...</td>\n",
       "      <td>6.999038</td>\n",
       "      <td>1158.871500</td>\n",
       "      <td>0.596500</td>\n",
       "      <td>0.575096</td>\n",
       "      <td>-5.043686e-07</td>\n",
       "      <td>2.415577</td>\n",
       "      <td>15.000000</td>\n",
       "      <td>5.000000</td>\n",
       "      <td>0.700000</td>\n",
       "      <td>0.0</td>\n",
       "    </tr>\n",
       "    <tr>\n",
       "      <th>75%</th>\n",
       "      <td>-0.157784</td>\n",
       "      <td>0.201828</td>\n",
       "      <td>0.986876</td>\n",
       "      <td>7.259000</td>\n",
       "      <td>5.978000</td>\n",
       "      <td>11.834001</td>\n",
       "      <td>0.074219</td>\n",
       "      <td>0.339541</td>\n",
       "      <td>0.031784</td>\n",
       "      <td>0.036223</td>\n",
       "      <td>...</td>\n",
       "      <td>6.999136</td>\n",
       "      <td>1979.485100</td>\n",
       "      <td>1.236500</td>\n",
       "      <td>1.234441</td>\n",
       "      <td>1.016305e-01</td>\n",
       "      <td>5.312170</td>\n",
       "      <td>16.000000</td>\n",
       "      <td>6.000000</td>\n",
       "      <td>0.750000</td>\n",
       "      <td>0.0</td>\n",
       "    </tr>\n",
       "    <tr>\n",
       "      <th>max</th>\n",
       "      <td>11.735548</td>\n",
       "      <td>9.830040</td>\n",
       "      <td>15.799212</td>\n",
       "      <td>1998.360000</td>\n",
       "      <td>2000.983000</td>\n",
       "      <td>1998.787000</td>\n",
       "      <td>9.613281</td>\n",
       "      <td>4.342911</td>\n",
       "      <td>13.028172</td>\n",
       "      <td>14.516465</td>\n",
       "      <td>...</td>\n",
       "      <td>7.000157</td>\n",
       "      <td>2451.855200</td>\n",
       "      <td>6.681500</td>\n",
       "      <td>6.464076</td>\n",
       "      <td>3.825590e+00</td>\n",
       "      <td>73.006290</td>\n",
       "      <td>17.000000</td>\n",
       "      <td>11.000000</td>\n",
       "      <td>5.310000</td>\n",
       "      <td>0.0</td>\n",
       "    </tr>\n",
       "  </tbody>\n",
       "</table>\n",
       "<p>8 rows × 26 columns</p>\n",
       "</div>"
      ],
      "text/plain": [
       "       Acceleration.forward  Acceleration.side  Acceleration.up  \\\n",
       "count         455611.000000      455611.000000    455611.000000   \n",
       "mean              -0.406693           0.042882         0.702822   \n",
       "std                0.414722           0.329580         0.646886   \n",
       "min              -14.844764         -15.317147        -5.455648   \n",
       "25%               -0.732292          -0.099704         0.162140   \n",
       "50%               -0.298144           0.038236         0.892980   \n",
       "75%               -0.157784           0.201828         0.986876   \n",
       "max               11.735548           9.830040        15.799212   \n",
       "\n",
       "       Rotation.roll  Rotation.pitch   Rotation.yaw  RawPlayerLoad  \\\n",
       "count  455611.000000   455611.000000  455611.000000  455611.000000   \n",
       "mean        0.403699       -0.542466       0.493093       0.078617   \n",
       "std        46.404008       50.671921      70.492233       0.203868   \n",
       "min     -1005.219000    -1988.478000   -1998.787000       0.000000   \n",
       "25%        -7.442000       -7.869000     -10.065001       0.003418   \n",
       "50%         0.000000       -0.061000       0.061000       0.020996   \n",
       "75%         7.259000        5.978000      11.834001       0.074219   \n",
       "max      1998.360000     2000.983000    1998.787000       9.613281   \n",
       "\n",
       "       SmoothedPlayerLoad  imuAcceleration.forward  imuAcceleration.side  ...  \\\n",
       "count       455611.000000            455611.000000         455611.000000  ...   \n",
       "mean             0.312630                -0.005387             -0.001300  ...   \n",
       "std              0.472539                 0.203405              0.235256  ...   \n",
       "min              0.000000                -9.687399            -14.046674  ...   \n",
       "25%              0.010249                -0.027591             -0.037511  ...   \n",
       "50%              0.132820                 0.000073              0.001297  ...   \n",
       "75%              0.339541                 0.031784              0.036223  ...   \n",
       "max              4.342911                13.028172             14.516465  ...   \n",
       "\n",
       "          Longitude      Odometer   RawVelocity  SmoothedVelocity  \\\n",
       "count  28834.000000  28834.000000  28834.000000      28834.000000   \n",
       "mean       6.999042   1242.720728      0.819955          0.802380   \n",
       "std        0.000217    712.472186      0.879645          0.868651   \n",
       "min        6.998607      0.000000      0.000500          0.000000   \n",
       "25%        6.998914    660.525250      0.078500          0.079256   \n",
       "50%        6.999038   1158.871500      0.596500          0.575096   \n",
       "75%        6.999136   1979.485100      1.236500          1.234441   \n",
       "max        7.000157   2451.855200      6.681500          6.464076   \n",
       "\n",
       "       GNSS.LPS.Acceleration  MetabolicPower      GNSS.Fix  GNSS.Strength  \\\n",
       "count           2.883400e+04    28834.000000  28834.000000   28834.000000   \n",
       "mean            4.109615e-05        3.770969     15.021329       4.863876   \n",
       "std             4.486178e-01        5.053830      1.543886       1.691259   \n",
       "min            -3.146602e+00       -0.000012      5.000000       0.000000   \n",
       "25%            -1.433313e-01        0.353228     14.000000       4.000000   \n",
       "50%            -5.043686e-07        2.415577     15.000000       5.000000   \n",
       "75%             1.016305e-01        5.312170     16.000000       6.000000   \n",
       "max             3.825590e+00       73.006290     17.000000      11.000000   \n",
       "\n",
       "          GNSS.HDOP  HeartRate  \n",
       "count  28834.000000   455611.0  \n",
       "mean       0.737691        0.0  \n",
       "std        0.199608        0.0  \n",
       "min        0.610000        0.0  \n",
       "25%        0.670000        0.0  \n",
       "50%        0.700000        0.0  \n",
       "75%        0.750000        0.0  \n",
       "max        5.310000        0.0  \n",
       "\n",
       "[8 rows x 26 columns]"
      ]
     },
     "execution_count": 9,
     "metadata": {},
     "output_type": "execute_result"
    }
   ],
   "source": [
    "D_all.describe()"
   ]
  },
  {
   "cell_type": "code",
   "execution_count": 10,
   "id": "f1ea477a",
   "metadata": {},
   "outputs": [],
   "source": [
    "nL = D_all[\"Longitude\"].count()"
   ]
  },
  {
   "cell_type": "code",
   "execution_count": 11,
   "id": "51b7b3b8",
   "metadata": {},
   "outputs": [],
   "source": [
    "D = D_all.dropna(subset=\"Longitude\")"
   ]
  },
  {
   "cell_type": "code",
   "execution_count": 12,
   "id": "36d027ac",
   "metadata": {},
   "outputs": [
    {
     "data": {
      "text/plain": [
       "(28834, 26)"
      ]
     },
     "execution_count": 12,
     "metadata": {},
     "output_type": "execute_result"
    }
   ],
   "source": [
    "D.shape"
   ]
  },
  {
   "cell_type": "code",
   "execution_count": 13,
   "id": "cf6abb66",
   "metadata": {},
   "outputs": [
    {
     "data": {
      "text/plain": [
       "(455611, 26)"
      ]
     },
     "execution_count": 13,
     "metadata": {},
     "output_type": "execute_result"
    }
   ],
   "source": [
    "D_all.shape"
   ]
  },
  {
   "cell_type": "code",
   "execution_count": 14,
   "id": "77dd5051",
   "metadata": {
    "ExecuteTime": {
     "end_time": "2022-09-20T20:42:34.827912Z",
     "start_time": "2022-09-20T20:42:34.787028Z"
    },
    "deletable": false,
    "editable": false,
    "nbgrader": {
     "cell_type": "code",
     "checksum": "ee731e8f4edd112026b5df0990cbdb98",
     "grade": true,
     "grade_id": "cell-8b10b5261858131d",
     "locked": true,
     "points": 3,
     "schema_version": 3,
     "solution": false,
     "task": false
    }
   },
   "outputs": [
    {
     "name": "stdout",
     "output_type": "stream",
     "text": [
      "No errrors found this far, your code may work :)\n"
     ]
    }
   ],
   "source": [
    "errorfound=False\n",
    "Ncorrect=0\n",
    "if ('D' not in globals()) or ('nL' not in globals()):\n",
    "    print(\"D or nL is not found! Please Store the reduced data frame as D, and number of values in nL\")\n",
    "    errorfound=True\n",
    "if not errorfound:\n",
    "    print(\"No errrors found this far, your code may work :)\")\n"
   ]
  },
  {
   "cell_type": "code",
   "execution_count": 32,
   "id": "02d2c4d6-b7a2-4203-9041-f9f247caa635",
   "metadata": {},
   "outputs": [],
   "source": [
    "D.columns[8:11]\n",
    "t=np.linspace(0,10,1000)"
   ]
  },
  {
   "cell_type": "code",
   "execution_count": 31,
   "id": "69add49e",
   "metadata": {},
   "outputs": [
    {
     "data": {
      "text/plain": [
       "array([0.        , 0.01001001, 0.02002002, 0.03003003, 0.04004004])"
      ]
     },
     "execution_count": 31,
     "metadata": {},
     "output_type": "execute_result"
    }
   ],
   "source": []
  },
  {
   "cell_type": "markdown",
   "id": "d8f663ae",
   "metadata": {},
   "source": [
    "#### Plot the data\n",
    "1. Study the column names, by printing the `D.columns` variable\n",
    "1. Plot the three accelerations: `Acceleration.forward`, `Acceleration.side`, and `Acceleration.up` between rows (=samples) between 0-500 in the same figure. Use the `D.plot()` and assign the resulting figure to the variable called `fig`, as follows: `fig = D.plot(...`\n",
    "2. Define the label for y-axis. You can use LaTeX strings as follows `'Acceleration $\\cdot 10 m/s^2$' `. The part between dollar signs is interpreted as mathematical expression.\n",
    "3. Define also the label for x-axis. It is the time in centiseconds or 10 ms.\n",
    "\n",
    "**TIP**: It is easiest to plot Pandas dataframes by just using the build in `plot()` function of the dataframe object. Study its properties by writing `D.plot` and then hitting the `Shift-TAB` button combination. You should see the documentation of print"
   ]
  },
  {
   "cell_type": "code",
   "execution_count": 47,
   "id": "b0606f8b",
   "metadata": {},
   "outputs": [
    {
     "name": "stderr",
     "output_type": "stream",
     "text": [
      "C:\\Users\\HP\\AppData\\Local\\Temp\\ipykernel_22364\\2688886964.py:7: UserWarning:\n",
      "\n",
      "FixedFormatter should only be used together with FixedLocator\n",
      "\n"
     ]
    },
    {
     "data": {
      "image/png": "[encoded data removed]",
      "text/plain": [
       "<Figure size 640x480 with 1 Axes>"
      ]
     },
     "metadata": {},
     "output_type": "display_data"
    }
   ],
   "source": [
    "fig = D.iloc[0:501].interpolate().plot(y=['Acceleration.forward', 'Acceleration.side', 'Acceleration.up'])\n",
    "\n",
    "# Step 3: Customize labels for y-axis and x-axis\n",
    "fig.set_ylabel('Acceleration $\\\\cdot 10 m/s^2$')  # LaTeX formatting for y-axis label\n",
    "fig.set_xlabel('Time')\n",
    "x_labels = [\"0ms\", \"10ms\", \"20ms\", \"30ms\", \"40ms\", \"50ms\"]\n",
    "fig.set_xticklabels(x_labels)\n",
    "\n",
    "\n",
    "# Show the plot\n",
    "plt.show()"
   ]
  },
  {
   "cell_type": "code",
   "execution_count": 17,
   "id": "6766a2fb",
   "metadata": {
    "ExecuteTime": {
     "end_time": "2022-09-20T20:43:15.182121Z",
     "start_time": "2022-09-20T20:43:15.156778Z"
    },
    "deletable": false,
    "editable": false,
    "nbgrader": {
     "cell_type": "code",
     "checksum": "145641f5cb29299323576bfddd26a742",
     "grade": true,
     "grade_id": "cell-505a65dfd626e1e6",
     "locked": true,
     "points": 2,
     "schema_version": 3,
     "solution": false,
     "task": false
    }
   },
   "outputs": [
    {
     "name": "stdout",
     "output_type": "stream",
     "text": [
      "No errrors found this far, your code may work :)\n"
     ]
    }
   ],
   "source": [
    "errorfound=False\n",
    "Ncorrect=0\n",
    "if 'fig' not in globals():\n",
    "    print(\"fig not found! Please plot the figure, and store it to variable fig.\")\n",
    "    errorfound=True\n",
    "else:\n",
    "    Ncorrect+=1\n",
    "    if fig.axes.get_xlabel().startswith('Time'):\n",
    "        Ncorrect +=1\n",
    "    else:\n",
    "        print(\"X-axis label not set or not correct. Please recheck.\")\n",
    "        errorfound=True\n",
    "    if fig.axes.get_ylabel().startswith('Acce'):\n",
    "        Ncorrect+=1\n",
    "    else:\n",
    "        print(\"Y-axis label not set or not correct. Please recheck.\")\n",
    "        errorfound=True\n",
    "if not errorfound:\n",
    "    print(\"No errrors found this far, your code may work :)\")\n",
    "         "
   ]
  },
  {
   "cell_type": "markdown",
   "id": "179dc638-64a5-4554-9638-0cad52284e17",
   "metadata": {},
   "source": [
    "## Scatterplot\n",
    "1. Make scatterplot of two columns `Latitude` and `Longitude` of the data between rows 0:500, and store the figure as `fig_scatter`. Make sure that Latitude is in the x-axis."
   ]
  },
  {
   "cell_type": "code",
   "execution_count": 18,
   "id": "8d154759-2426-429b-97e8-d7c41aef3668",
   "metadata": {
    "ExecuteTime": {
     "end_time": "2022-09-20T20:30:02.385809Z",
     "start_time": "2022-09-20T20:30:02.378390Z"
    },
    "deletable": false,
    "nbgrader": {
     "cell_type": "code",
     "checksum": "4b19aecb4b96db1cdec528d8dc296f8d",
     "grade": false,
     "grade_id": "cell-3b75e463ba50584c",
     "locked": false,
     "schema_version": 3,
     "solution": true,
     "task": false
    }
   },
   "outputs": [
    {
     "data": {
      "image/png": "[encoded data removed]",
      "text/plain": [
       "<Figure size 640x480 with 1 Axes>"
      ]
     },
     "metadata": {},
     "output_type": "display_data"
    }
   ],
   "source": [
    "fig_scatter = D.iloc[0:501].plot(x=\"Latitude\", y=\"Longitude\", kind=\"scatter\", )"
   ]
  },
  {
   "cell_type": "code",
   "execution_count": 19,
   "id": "53f2c4aa",
   "metadata": {},
   "outputs": [
    {
     "data": {
      "text/plain": [
       "<Axes: xlabel='Latitude', ylabel='Longitude'>"
      ]
     },
     "execution_count": 19,
     "metadata": {},
     "output_type": "execute_result"
    },
    {
     "data": {
      "image/png": "[encoded data removed]",
      "text/plain": [
       "<Figure size 640x480 with 1 Axes>"
      ]
     },
     "metadata": {},
     "output_type": "display_data"
    }
   ],
   "source": [
    "sns.scatterplot(data=D.iloc[0:501], x=\"Latitude\", y=\"Longitude\")"
   ]
  },
  {
   "cell_type": "code",
   "execution_count": 20,
   "id": "a20b9402",
   "metadata": {},
   "outputs": [],
   "source": [
    "import plotly.express as px"
   ]
  },
  {
   "cell_type": "code",
   "execution_count": 21,
   "id": "61c1c7ae",
   "metadata": {},
   "outputs": [
    {
     "data": {
      "application/vnd.plotly.v1+json": {
       "config": {
        "plotlyServerURL": "https://plot.ly"
       },
       "data": [
        {
         "hovertemplate": "Latitude=%{x}<br>Longitude=%{y}<extra></extra>",
         "legendgroup": "",
         "marker": {
          "color": "#636efa",
          "symbol": "circle"
         },
         "mode": "markers",
         "name": "",
         "orientation": "v",
         "showlegend": false,
         "type": "scatter",
         "x": [
          51.037014,
          51.0370133,
          51.0370135,
          51.0370133,
          51.0370137,
          51.037014,
          51.0370142,
          51.0370143,
          51.0370143,
          51.0370162,
          51.0370182,
          51.03702,
          51.0370212,
          51.0370222,
          51.0370232,
          51.0370237,
          51.037025,
          51.0370263,
          51.0370272,
          51.037028,
          51.037029,
          51.0370297,
          51.0370303,
          51.0370313,
          51.0370317,
          51.0370323,
          51.037033,
          51.0370338,
          51.0370347,
          51.0370352,
          51.0370355,
          51.0370362,
          51.0370363,
          51.0370367,
          51.0370373,
          51.0370373,
          51.0370373,
          51.0370373,
          51.0370373,
          51.0370375,
          51.0370378,
          51.0370382,
          51.0370378,
          51.0370375,
          51.0370377,
          51.0370373,
          51.0370372,
          51.037037,
          51.0370363,
          51.0370373,
          51.0370388,
          51.0370415,
          51.0370443,
          51.0370472,
          51.0370488,
          51.0370507,
          51.037052,
          51.0370533,
          51.0370542,
          51.0370552,
          51.0370547,
          51.0370542,
          51.0370542,
          51.0370542,
          51.0370535,
          51.0370522,
          51.037051,
          51.037049,
          51.0370475,
          51.0370462,
          51.0370465,
          51.0370467,
          51.0370463,
          51.0370462,
          51.0370458,
          51.0370455,
          51.0370452,
          51.037045,
          51.0370443,
          51.037044,
          51.0370438,
          51.0370438,
          51.0370437,
          51.0370432,
          51.037043,
          51.037043,
          51.0370437,
          51.0370447,
          51.0370452,
          51.037046,
          51.037047,
          51.0370485,
          51.0370503,
          51.0370522,
          51.0370542,
          51.0370558,
          51.0370573,
          51.0370578,
          51.037058,
          51.037058,
          51.0370577,
          51.037058,
          51.0370582,
          51.0370585,
          51.0370593,
          51.0370598,
          51.0370603,
          51.0370605,
          51.0370608,
          51.0370612,
          51.0370613,
          51.037062,
          51.0370622,
          51.0370625,
          51.0370635,
          51.0370642,
          51.0370648,
          51.0370657,
          51.0370658,
          51.037066,
          51.037066,
          51.0370658,
          51.0370655,
          51.0370648,
          51.0370647,
          51.0370647,
          51.0370647,
          51.0370647,
          51.0370647,
          51.0370648,
          51.037065,
          51.0370652,
          51.0370653,
          51.0370657,
          51.0370663,
          51.0370668,
          51.0370675,
          51.0370683,
          51.0370693,
          51.0370707,
          51.0370712,
          51.0370713,
          51.0370717,
          51.037072,
          51.0370722,
          51.0370727,
          51.0370728,
          51.0370732,
          51.0370732,
          51.0370738,
          51.0370745,
          51.037075,
          51.0370753,
          51.0370757,
          51.037076,
          51.0370765,
          51.0370768,
          51.0370775,
          51.037078,
          51.0370787,
          51.0370792,
          51.0370793,
          51.0370797,
          51.03708,
          51.0370802,
          51.0370805,
          51.0370808,
          51.0370807,
          51.0370807,
          51.0370807,
          51.0370812,
          51.0370812,
          51.037082,
          51.0370835,
          51.0370858,
          51.0370887,
          51.0370912,
          51.0370938,
          51.0370948,
          51.0370962,
          51.037098,
          51.0371003,
          51.0371023,
          51.0371037,
          51.0371045,
          51.037105,
          51.0371057,
          51.0371063,
          51.037107,
          51.0371075,
          51.0371085,
          51.0371095,
          51.0371103,
          51.0371117,
          51.0371135,
          51.0371155,
          51.0371172,
          51.0371183,
          51.0371192,
          51.0371195,
          51.0371197,
          51.0371197,
          51.0371197,
          51.0371195,
          51.0371193,
          51.0371192,
          51.0371188,
          51.0371182,
          51.0371178,
          51.0371167,
          51.037116,
          51.037115,
          51.0371143,
          51.0371133,
          51.0371132,
          51.037113,
          51.0371125,
          51.0371123,
          51.0371123,
          51.0371122,
          51.037112,
          51.0371118,
          51.0371117,
          51.0371117,
          51.037112,
          51.0371127,
          51.037113,
          51.0371137,
          51.037114,
          51.0371138,
          51.0371133,
          51.0371127,
          51.037112,
          51.0371112,
          51.0371108,
          51.0371107,
          51.0371108,
          51.0371113,
          51.0371112,
          51.0371113,
          51.0371113,
          51.0371112,
          51.0371112,
          51.037111,
          51.0371113,
          51.0371115,
          51.0371117,
          51.0371117,
          51.0371115,
          51.0371113,
          51.0371115,
          51.0371117,
          51.0371117,
          51.0371115,
          51.0371115,
          51.0371113,
          51.0371113,
          51.0371112,
          51.0371112,
          51.0371112,
          51.0371112,
          51.0371113,
          51.0371112,
          51.0371112,
          51.0371112,
          51.0371115,
          51.0371118,
          51.037112,
          51.037112,
          51.0371123,
          51.0371123,
          51.0371125,
          51.0371125,
          51.0371127,
          51.0371128,
          51.0371128,
          51.0371127,
          51.0371135,
          51.0371142,
          51.037115,
          51.0371153,
          51.0371155,
          51.0371157,
          51.0371157,
          51.0371157,
          51.0371152,
          51.037115,
          51.0371148,
          51.0371147,
          51.0371147,
          51.037115,
          51.0371153,
          51.0371155,
          51.037116,
          51.0371163,
          51.0371167,
          51.0371172,
          51.037117,
          51.0371172,
          51.0371175,
          51.0371177,
          51.0371178,
          51.037118,
          51.0371182,
          51.0371182,
          51.0371183,
          51.0371187,
          51.037119,
          51.0371193,
          51.0371195,
          51.0371195,
          51.0371195,
          51.0371197,
          51.0371195,
          51.0371195,
          51.0371197,
          51.0371195,
          51.0371195,
          51.0371197,
          51.0371197,
          51.0371198,
          51.0371197,
          51.0371195,
          51.0371195,
          51.0371195,
          51.0371195,
          51.0371193,
          51.0371192,
          51.037119,
          51.0371183,
          51.0371182,
          51.0371182,
          51.0371182,
          51.0371185,
          51.0371187,
          51.0371183,
          51.0371185,
          51.0371183,
          51.0371185,
          51.0371183,
          51.0371183,
          51.0371185,
          51.0371187,
          51.0371187,
          51.0371185,
          51.0371182,
          51.0371178,
          51.0371177,
          51.0371177,
          51.0371177,
          51.0371177,
          51.0371175,
          51.0371175,
          51.0371175,
          51.0371178,
          51.037118,
          51.0371183,
          51.0371185,
          51.037119,
          51.0371195,
          51.0371207,
          51.0371213,
          51.0371218,
          51.037122,
          51.0371223,
          51.0371227,
          51.037123,
          51.0371232,
          51.0371233,
          51.0371233,
          51.0371233,
          51.0371235,
          51.0371235,
          51.0371235,
          51.0371235,
          51.0371237,
          51.0371238,
          51.0371238,
          51.0371238,
          51.0371238,
          51.0371238,
          51.0371238,
          51.0371238,
          51.0371237,
          51.0371238,
          51.0371242,
          51.0371243,
          51.0371243,
          51.0371245,
          51.0371245,
          51.0371248,
          51.0371248,
          51.037125,
          51.0371248,
          51.037125,
          51.0371248,
          51.0371247,
          51.0371242,
          51.0371242,
          51.037124,
          51.0371238,
          51.0371238,
          51.0371237,
          51.0371235,
          51.0371232,
          51.0371228,
          51.0371227,
          51.0371225,
          51.0371222,
          51.037122,
          51.0371218,
          51.037121,
          51.0371205,
          51.03712,
          51.03712,
          51.0371197,
          51.0371193,
          51.0371192,
          51.037119,
          51.0371188,
          51.0371188,
          51.0371188,
          51.0371187,
          51.0371187,
          51.0371187,
          51.0371185,
          51.0371183,
          51.0371182,
          51.0371182,
          51.0371178,
          51.037118,
          51.0371178,
          51.0371177,
          51.0371175,
          51.0371173,
          51.037117,
          51.0371168,
          51.0371167,
          51.0371167,
          51.0371167,
          51.0371168,
          51.037117,
          51.0371172,
          51.0371175,
          51.0371177,
          51.0371178,
          51.037118,
          51.0371183,
          51.0371187,
          51.0371193,
          51.0371197,
          51.0371205,
          51.0371208,
          51.0371215,
          51.0371217,
          51.0371215,
          51.0371217,
          51.0371222,
          51.0371225,
          51.0371227,
          51.0371228,
          51.0371228,
          51.037123,
          51.037123,
          51.0371232,
          51.0371233,
          51.0371233,
          51.0371235,
          51.0371232,
          51.037123,
          51.037123,
          51.0371227,
          51.0371222,
          51.0371215,
          51.037121,
          51.037121,
          51.0371208,
          51.0371212,
          51.0371215,
          51.0371212,
          51.0371208,
          51.0371203,
          51.0371198,
          51.0371195,
          51.0371193,
          51.037119,
          51.037119,
          51.0371188,
          51.0371187,
          51.0371185,
          51.0371182,
          51.037118,
          51.037118,
          51.0371178,
          51.0371178,
          51.0371177,
          51.0371177,
          51.0371177,
          51.0371178,
          51.037118,
          51.037118
         ],
         "xaxis": "x",
         "y": [
          6.9992937,
          6.9992937,
          6.9992933,
          6.9992933,
          6.9992933,
          6.9992932,
          6.9992932,
          6.999293,
          6.9992928,
          6.9992935,
          6.9992938,
          6.9992942,
          6.9992947,
          6.9992947,
          6.999295,
          6.9992952,
          6.9992955,
          6.9992955,
          6.9992957,
          6.9992957,
          6.999296,
          6.9992963,
          6.9992967,
          6.999297,
          6.9992967,
          6.9992965,
          6.9992967,
          6.999297,
          6.9992972,
          6.9992968,
          6.9992963,
          6.9992963,
          6.9992963,
          6.9992962,
          6.9992965,
          6.9992965,
          6.9992965,
          6.9992967,
          6.9992967,
          6.9992967,
          6.9992967,
          6.9992968,
          6.9992967,
          6.9992965,
          6.9992965,
          6.9992963,
          6.9992965,
          6.9992968,
          6.9992967,
          6.9992975,
          6.9992983,
          6.9992997,
          6.999301,
          6.999302,
          6.999303,
          6.9993037,
          6.9993038,
          6.9993042,
          6.9993043,
          6.999305,
          6.9993048,
          6.9993047,
          6.9993043,
          6.9993038,
          6.9993033,
          6.9993028,
          6.9993023,
          6.9993008,
          6.9992997,
          6.9992988,
          6.9992987,
          6.9992983,
          6.9992982,
          6.9992982,
          6.9992978,
          6.9992977,
          6.9992973,
          6.9992968,
          6.9992963,
          6.999296,
          6.9992957,
          6.9992955,
          6.9992953,
          6.9992952,
          6.9992952,
          6.9992952,
          6.9992955,
          6.999296,
          6.9992963,
          6.9992968,
          6.9992972,
          6.9992982,
          6.999299,
          6.9992995,
          6.9992997,
          6.9993,
          6.9992998,
          6.9992998,
          6.9993003,
          6.9993012,
          6.9993017,
          6.9993018,
          6.9993017,
          6.999301,
          6.9993002,
          6.9992993,
          6.9992992,
          6.9992992,
          6.9992985,
          6.9992982,
          6.9992978,
          6.9992973,
          6.9992972,
          6.9992968,
          6.9992972,
          6.9992972,
          6.9992977,
          6.9992985,
          6.999299,
          6.9992997,
          6.9993,
          6.9993005,
          6.9993005,
          6.9993002,
          6.9993005,
          6.9993002,
          6.9993,
          6.9993002,
          6.9993,
          6.9992998,
          6.9992997,
          6.9992997,
          6.9992995,
          6.9992997,
          6.9992998,
          6.9992998,
          6.9993,
          6.9993003,
          6.9993007,
          6.999301,
          6.9993013,
          6.9993013,
          6.9993013,
          6.9993013,
          6.9993012,
          6.9993012,
          6.9993012,
          6.9993012,
          6.999301,
          6.9993008,
          6.9993007,
          6.9993003,
          6.9992998,
          6.9992997,
          6.9992993,
          6.999299,
          6.9992988,
          6.9992987,
          6.9992985,
          6.9992985,
          6.9992987,
          6.9992985,
          6.9992985,
          6.9992987,
          6.9992987,
          6.9992988,
          6.9992988,
          6.9992988,
          6.9992987,
          6.9992987,
          6.9992988,
          6.9992992,
          6.9993002,
          6.9993008,
          6.9993018,
          6.9993033,
          6.9993042,
          6.9993057,
          6.9993062,
          6.9993065,
          6.9993072,
          6.999308,
          6.9993092,
          6.9993095,
          6.9993098,
          6.99931,
          6.99931,
          6.9993098,
          6.99931,
          6.99931,
          6.99931,
          6.9993102,
          6.9993102,
          6.9993108,
          6.9993115,
          6.9993123,
          6.9993128,
          6.9993133,
          6.9993135,
          6.9993135,
          6.9993135,
          6.9993133,
          6.999313,
          6.9993128,
          6.9993127,
          6.9993123,
          6.999312,
          6.9993117,
          6.9993112,
          6.9993102,
          6.9993092,
          6.999308,
          6.9993068,
          6.9993057,
          6.9993052,
          6.9993045,
          6.999304,
          6.9993033,
          6.999303,
          6.9993027,
          6.9993022,
          6.9993017,
          6.9993012,
          6.9993005,
          6.9993007,
          6.9993003,
          6.9992993,
          6.9992987,
          6.999298,
          6.9992972,
          6.9992963,
          6.9992953,
          6.9992947,
          6.9992945,
          6.9992935,
          6.9992925,
          6.9992912,
          6.99929,
          6.9992892,
          6.9992883,
          6.9992878,
          6.9992875,
          6.9992872,
          6.9992867,
          6.9992862,
          6.9992858,
          6.9992855,
          6.9992852,
          6.9992848,
          6.9992843,
          6.9992837,
          6.9992832,
          6.9992827,
          6.9992822,
          6.9992817,
          6.9992812,
          6.9992807,
          6.9992802,
          6.9992798,
          6.9992795,
          6.9992793,
          6.999279,
          6.9992785,
          6.9992782,
          6.9992778,
          6.9992773,
          6.999277,
          6.9992767,
          6.9992762,
          6.9992758,
          6.9992757,
          6.9992752,
          6.9992748,
          6.9992743,
          6.999274,
          6.9992737,
          6.9992735,
          6.9992727,
          6.9992725,
          6.9992722,
          6.999272,
          6.9992722,
          6.9992723,
          6.9992727,
          6.9992727,
          6.999273,
          6.9992728,
          6.999273,
          6.999273,
          6.9992727,
          6.9992722,
          6.9992717,
          6.999271,
          6.9992702,
          6.9992695,
          6.9992687,
          6.9992687,
          6.9992692,
          6.9992688,
          6.9992683,
          6.999268,
          6.9992677,
          6.9992668,
          6.9992662,
          6.9992658,
          6.9992652,
          6.9992648,
          6.9992643,
          6.9992638,
          6.9992637,
          6.9992633,
          6.9992633,
          6.9992633,
          6.9992633,
          6.9992633,
          6.9992633,
          6.9992633,
          6.9992633,
          6.9992633,
          6.9992632,
          6.9992632,
          6.999263,
          6.9992628,
          6.9992627,
          6.9992627,
          6.9992622,
          6.9992622,
          6.9992622,
          6.9992622,
          6.9992625,
          6.9992623,
          6.9992623,
          6.9992623,
          6.9992618,
          6.9992617,
          6.9992613,
          6.9992608,
          6.9992607,
          6.9992603,
          6.9992597,
          6.9992593,
          6.999259,
          6.9992585,
          6.9992587,
          6.9992585,
          6.9992583,
          6.9992582,
          6.999258,
          6.9992578,
          6.999258,
          6.9992578,
          6.999258,
          6.9992582,
          6.9992582,
          6.9992582,
          6.9992582,
          6.9992582,
          6.9992578,
          6.9992575,
          6.9992572,
          6.9992562,
          6.9992557,
          6.9992552,
          6.9992548,
          6.9992548,
          6.9992545,
          6.999254,
          6.9992537,
          6.9992535,
          6.9992528,
          6.9992525,
          6.9992522,
          6.9992518,
          6.9992515,
          6.9992512,
          6.9992508,
          6.9992505,
          6.9992503,
          6.9992502,
          6.9992498,
          6.9992498,
          6.9992497,
          6.9992495,
          6.9992493,
          6.9992495,
          6.9992495,
          6.9992495,
          6.9992495,
          6.9992497,
          6.9992497,
          6.9992497,
          6.9992497,
          6.9992497,
          6.9992495,
          6.9992493,
          6.9992492,
          6.9992488,
          6.9992488,
          6.9992488,
          6.9992485,
          6.9992487,
          6.9992485,
          6.9992485,
          6.9992487,
          6.9992487,
          6.9992488,
          6.9992488,
          6.9992487,
          6.9992485,
          6.9992485,
          6.9992488,
          6.999249,
          6.9992497,
          6.9992502,
          6.9992505,
          6.9992507,
          6.9992502,
          6.9992505,
          6.9992503,
          6.99925,
          6.99925,
          6.9992498,
          6.9992497,
          6.9992495,
          6.9992497,
          6.9992495,
          6.9992493,
          6.999249,
          6.9992488,
          6.9992483,
          6.9992483,
          6.9992483,
          6.999248,
          6.9992478,
          6.999248,
          6.9992478,
          6.9992478,
          6.9992478,
          6.9992478,
          6.9992478,
          6.999248,
          6.9992482,
          6.9992483,
          6.9992485,
          6.9992485,
          6.9992485,
          6.9992483,
          6.9992477,
          6.9992473,
          6.9992473,
          6.9992465,
          6.9992458,
          6.9992457,
          6.9992452,
          6.9992453,
          6.9992457,
          6.999245,
          6.9992447,
          6.9992442,
          6.9992442,
          6.9992437,
          6.9992437,
          6.9992435,
          6.9992435,
          6.9992435,
          6.9992435,
          6.9992435,
          6.9992437,
          6.999244,
          6.9992442,
          6.999244,
          6.9992438,
          6.9992442,
          6.9992443,
          6.9992443,
          6.9992443,
          6.9992443,
          6.999244,
          6.9992437,
          6.9992428,
          6.999242,
          6.999241,
          6.9992403,
          6.99924,
          6.9992395,
          6.9992393,
          6.999239,
          6.999239,
          6.999239,
          6.9992388,
          6.9992378,
          6.9992375,
          6.9992368,
          6.9992367,
          6.9992367,
          6.9992368,
          6.9992368,
          6.9992367,
          6.9992365,
          6.999236,
          6.9992358
         ],
         "yaxis": "y"
        }
       ],
       "layout": {
        "legend": {
         "tracegroupgap": 0
        },
        "template": {
         "data": {
          "bar": [
           {
            "error_x": {
             "color": "#2a3f5f"
            },
            "error_y": {
             "color": "#2a3f5f"
            },
            "marker": {
             "line": {
              "color": "#E5ECF6",
              "width": 0.5
             },
             "pattern": {
              "fillmode": "overlay",
              "size": 10,
              "solidity": 0.2
             }
            },
            "type": "bar"
           }
          ],
          "barpolar": [
           {
            "marker": {
             "line": {
              "color": "#E5ECF6",
              "width": 0.5
             },
             "pattern": {
              "fillmode": "overlay",
              "size": 10,
              "solidity": 0.2
             }
            },
            "type": "barpolar"
           }
          ],
          "carpet": [
           {
            "aaxis": {
             "endlinecolor": "#2a3f5f",
             "gridcolor": "white",
             "linecolor": "white",
             "minorgridcolor": "white",
             "startlinecolor": "#2a3f5f"
            },
            "baxis": {
             "endlinecolor": "#2a3f5f",
             "gridcolor": "white",
             "linecolor": "white",
             "minorgridcolor": "white",
             "startlinecolor": "#2a3f5f"
            },
            "type": "carpet"
           }
          ],
          "choropleth": [
           {
            "colorbar": {
             "outlinewidth": 0,
             "ticks": ""
            },
            "type": "choropleth"
           }
          ],
          "contour": [
           {
            "colorbar": {
             "outlinewidth": 0,
             "ticks": ""
            },
            "colorscale": [
             [
              0,
              "#0d0887"
             ],
             [
              0.1111111111111111,
              "#46039f"
             ],
             [
              0.2222222222222222,
              "#7201a8"
             ],
             [
              0.3333333333333333,
              "#9c179e"
             ],
             [
              0.4444444444444444,
              "#bd3786"
             ],
             [
              0.5555555555555556,
              "#d8576b"
             ],
             [
              0.6666666666666666,
              "#ed7953"
             ],
             [
              0.7777777777777778,
              "#fb9f3a"
             ],
             [
              0.8888888888888888,
              "#fdca26"
             ],
             [
              1,
              "#f0f921"
             ]
            ],
            "type": "contour"
           }
          ],
          "contourcarpet": [
           {
            "colorbar": {
             "outlinewidth": 0,
             "ticks": ""
            },
            "type": "contourcarpet"
           }
          ],
          "heatmap": [
           {
            "colorbar": {
             "outlinewidth": 0,
             "ticks": ""
            },
            "colorscale": [
             [
              0,
              "#0d0887"
             ],
             [
              0.1111111111111111,
              "#46039f"
             ],
             [
              0.2222222222222222,
              "#7201a8"
             ],
             [
              0.3333333333333333,
              "#9c179e"
             ],
             [
              0.4444444444444444,
              "#bd3786"
             ],
             [
              0.5555555555555556,
              "#d8576b"
             ],
             [
              0.6666666666666666,
              "#ed7953"
             ],
             [
              0.7777777777777778,
              "#fb9f3a"
             ],
             [
              0.8888888888888888,
              "#fdca26"
             ],
             [
              1,
              "#f0f921"
             ]
            ],
            "type": "heatmap"
           }
          ],
          "heatmapgl": [
           {
            "colorbar": {
             "outlinewidth": 0,
             "ticks": ""
            },
            "colorscale": [
             [
              0,
              "#0d0887"
             ],
             [
              0.1111111111111111,
              "#46039f"
             ],
             [
              0.2222222222222222,
              "#7201a8"
             ],
             [
              0.3333333333333333,
              "#9c179e"
             ],
             [
              0.4444444444444444,
              "#bd3786"
             ],
             [
              0.5555555555555556,
              "#d8576b"
             ],
             [
              0.6666666666666666,
              "#ed7953"
             ],
             [
              0.7777777777777778,
              "#fb9f3a"
             ],
             [
              0.8888888888888888,
              "#fdca26"
             ],
             [
              1,
              "#f0f921"
             ]
            ],
            "type": "heatmapgl"
           }
          ],
          "histogram": [
           {
            "marker": {
             "pattern": {
              "fillmode": "overlay",
              "size": 10,
              "solidity": 0.2
             }
            },
            "type": "histogram"
           }
          ],
          "histogram2d": [
           {
            "colorbar": {
             "outlinewidth": 0,
             "ticks": ""
            },
            "colorscale": [
             [
              0,
              "#0d0887"
             ],
             [
              0.1111111111111111,
              "#46039f"
             ],
             [
              0.2222222222222222,
              "#7201a8"
             ],
             [
              0.3333333333333333,
              "#9c179e"
             ],
             [
              0.4444444444444444,
              "#bd3786"
             ],
             [
              0.5555555555555556,
              "#d8576b"
             ],
             [
              0.6666666666666666,
              "#ed7953"
             ],
             [
              0.7777777777777778,
              "#fb9f3a"
             ],
             [
              0.8888888888888888,
              "#fdca26"
             ],
             [
              1,
              "#f0f921"
             ]
            ],
            "type": "histogram2d"
           }
          ],
          "histogram2dcontour": [
           {
            "colorbar": {
             "outlinewidth": 0,
             "ticks": ""
            },
            "colorscale": [
             [
              0,
              "#0d0887"
             ],
             [
              0.1111111111111111,
              "#46039f"
             ],
             [
              0.2222222222222222,
              "#7201a8"
             ],
             [
              0.3333333333333333,
              "#9c179e"
             ],
             [
              0.4444444444444444,
              "#bd3786"
             ],
             [
              0.5555555555555556,
              "#d8576b"
             ],
             [
              0.6666666666666666,
              "#ed7953"
             ],
             [
              0.7777777777777778,
              "#fb9f3a"
             ],
             [
              0.8888888888888888,
              "#fdca26"
             ],
             [
              1,
              "#f0f921"
             ]
            ],
            "type": "histogram2dcontour"
           }
          ],
          "mesh3d": [
           {
            "colorbar": {
             "outlinewidth": 0,
             "ticks": ""
            },
            "type": "mesh3d"
           }
          ],
          "parcoords": [
           {
            "line": {
             "colorbar": {
              "outlinewidth": 0,
              "ticks": ""
             }
            },
            "type": "parcoords"
           }
          ],
          "pie": [
           {
            "automargin": true,
            "type": "pie"
           }
          ],
          "scatter": [
           {
            "fillpattern": {
             "fillmode": "overlay",
             "size": 10,
             "solidity": 0.2
            },
            "type": "scatter"
           }
          ],
          "scatter3d": [
           {
            "line": {
             "colorbar": {
              "outlinewidth": 0,
              "ticks": ""
             }
            },
            "marker": {
             "colorbar": {
              "outlinewidth": 0,
              "ticks": ""
             }
            },
            "type": "scatter3d"
           }
          ],
          "scattercarpet": [
           {
            "marker": {
             "colorbar": {
              "outlinewidth": 0,
              "ticks": ""
             }
            },
            "type": "scattercarpet"
           }
          ],
          "scattergeo": [
           {
            "marker": {
             "colorbar": {
              "outlinewidth": 0,
              "ticks": ""
             }
            },
            "type": "scattergeo"
           }
          ],
          "scattergl": [
           {
            "marker": {
             "colorbar": {
              "outlinewidth": 0,
              "ticks": ""
             }
            },
            "type": "scattergl"
           }
          ],
          "scattermapbox": [
           {
            "marker": {
             "colorbar": {
              "outlinewidth": 0,
              "ticks": ""
             }
            },
            "type": "scattermapbox"
           }
          ],
          "scatterpolar": [
           {
            "marker": {
             "colorbar": {
              "outlinewidth": 0,
              "ticks": ""
             }
            },
            "type": "scatterpolar"
           }
          ],
          "scatterpolargl": [
           {
            "marker": {
             "colorbar": {
              "outlinewidth": 0,
              "ticks": ""
             }
            },
            "type": "scatterpolargl"
           }
          ],
          "scatterternary": [
           {
            "marker": {
             "colorbar": {
              "outlinewidth": 0,
              "ticks": ""
             }
            },
            "type": "scatterternary"
           }
          ],
          "surface": [
           {
            "colorbar": {
             "outlinewidth": 0,
             "ticks": ""
            },
            "colorscale": [
             [
              0,
              "#0d0887"
             ],
             [
              0.1111111111111111,
              "#46039f"
             ],
             [
              0.2222222222222222,
              "#7201a8"
             ],
             [
              0.3333333333333333,
              "#9c179e"
             ],
             [
              0.4444444444444444,
              "#bd3786"
             ],
             [
              0.5555555555555556,
              "#d8576b"
             ],
             [
              0.6666666666666666,
              "#ed7953"
             ],
             [
              0.7777777777777778,
              "#fb9f3a"
             ],
             [
              0.8888888888888888,
              "#fdca26"
             ],
             [
              1,
              "#f0f921"
             ]
            ],
            "type": "surface"
           }
          ],
          "table": [
           {
            "cells": {
             "fill": {
              "color": "#EBF0F8"
             },
             "line": {
              "color": "white"
             }
            },
            "header": {
             "fill": {
              "color": "#C8D4E3"
             },
             "line": {
              "color": "white"
             }
            },
            "type": "table"
           }
          ]
         },
         "layout": {
          "annotationdefaults": {
           "arrowcolor": "#2a3f5f",
           "arrowhead": 0,
           "arrowwidth": 1
          },
          "autotypenumbers": "strict",
          "coloraxis": {
           "colorbar": {
            "outlinewidth": 0,
            "ticks": ""
           }
          },
          "colorscale": {
           "diverging": [
            [
             0,
             "#8e0152"
            ],
            [
             0.1,
             "#c51b7d"
            ],
            [
             0.2,
             "#de77ae"
            ],
            [
             0.3,
             "#f1b6da"
            ],
            [
             0.4,
             "#fde0ef"
            ],
            [
             0.5,
             "#f7f7f7"
            ],
            [
             0.6,
             "#e6f5d0"
            ],
            [
             0.7,
             "#b8e186"
            ],
            [
             0.8,
             "#7fbc41"
            ],
            [
             0.9,
             "#4d9221"
            ],
            [
             1,
             "#276419"
            ]
           ],
           "sequential": [
            [
             0,
             "#0d0887"
            ],
            [
             0.1111111111111111,
             "#46039f"
            ],
            [
             0.2222222222222222,
             "#7201a8"
            ],
            [
             0.3333333333333333,
             "#9c179e"
            ],
            [
             0.4444444444444444,
             "#bd3786"
            ],
            [
             0.5555555555555556,
             "#d8576b"
            ],
            [
             0.6666666666666666,
             "#ed7953"
            ],
            [
             0.7777777777777778,
             "#fb9f3a"
            ],
            [
             0.8888888888888888,
             "#fdca26"
            ],
            [
             1,
             "#f0f921"
            ]
           ],
           "sequentialminus": [
            [
             0,
             "#0d0887"
            ],
            [
             0.1111111111111111,
             "#46039f"
            ],
            [
             0.2222222222222222,
             "#7201a8"
            ],
            [
             0.3333333333333333,
             "#9c179e"
            ],
            [
             0.4444444444444444,
             "#bd3786"
            ],
            [
             0.5555555555555556,
             "#d8576b"
            ],
            [
             0.6666666666666666,
             "#ed7953"
            ],
            [
             0.7777777777777778,
             "#fb9f3a"
            ],
            [
             0.8888888888888888,
             "#fdca26"
            ],
            [
             1,
             "#f0f921"
            ]
           ]
          },
          "colorway": [
           "#636efa",
           "#EF553B",
           "#00cc96",
           "#ab63fa",
           "#FFA15A",
           "#19d3f3",
           "#FF6692",
           "#B6E880",
           "#FF97FF",
           "#FECB52"
          ],
          "font": {
           "color": "#2a3f5f"
          },
          "geo": {
           "bgcolor": "white",
           "lakecolor": "white",
           "landcolor": "#E5ECF6",
           "showlakes": true,
           "showland": true,
           "subunitcolor": "white"
          },
          "hoverlabel": {
           "align": "left"
          },
          "hovermode": "closest",
          "mapbox": {
           "style": "light"
          },
          "paper_bgcolor": "white",
          "plot_bgcolor": "#E5ECF6",
          "polar": {
           "angularaxis": {
            "gridcolor": "white",
            "linecolor": "white",
            "ticks": ""
           },
           "bgcolor": "#E5ECF6",
           "radialaxis": {
            "gridcolor": "white",
            "linecolor": "white",
            "ticks": ""
           }
          },
          "scene": {
           "xaxis": {
            "backgroundcolor": "#E5ECF6",
            "gridcolor": "white",
            "gridwidth": 2,
            "linecolor": "white",
            "showbackground": true,
            "ticks": "",
            "zerolinecolor": "white"
           },
           "yaxis": {
            "backgroundcolor": "#E5ECF6",
            "gridcolor": "white",
            "gridwidth": 2,
            "linecolor": "white",
            "showbackground": true,
            "ticks": "",
            "zerolinecolor": "white"
           },
           "zaxis": {
            "backgroundcolor": "#E5ECF6",
            "gridcolor": "white",
            "gridwidth": 2,
            "linecolor": "white",
            "showbackground": true,
            "ticks": "",
            "zerolinecolor": "white"
           }
          },
          "shapedefaults": {
           "line": {
            "color": "#2a3f5f"
           }
          },
          "ternary": {
           "aaxis": {
            "gridcolor": "white",
            "linecolor": "white",
            "ticks": ""
           },
           "baxis": {
            "gridcolor": "white",
            "linecolor": "white",
            "ticks": ""
           },
           "bgcolor": "#E5ECF6",
           "caxis": {
            "gridcolor": "white",
            "linecolor": "white",
            "ticks": ""
           }
          },
          "title": {
           "x": 0.05
          },
          "xaxis": {
           "automargin": true,
           "gridcolor": "white",
           "linecolor": "white",
           "ticks": "",
           "title": {
            "standoff": 15
           },
           "zerolinecolor": "white",
           "zerolinewidth": 2
          },
          "yaxis": {
           "automargin": true,
           "gridcolor": "white",
           "linecolor": "white",
           "ticks": "",
           "title": {
            "standoff": 15
           },
           "zerolinecolor": "white",
           "zerolinewidth": 2
          }
         }
        },
        "title": {
         "text": "Latitude vs Longitude"
        },
        "xaxis": {
         "anchor": "y",
         "domain": [
          0,
          1
         ],
         "title": {
          "text": "Latitude"
         }
        },
        "yaxis": {
         "anchor": "x",
         "domain": [
          0,
          1
         ],
         "title": {
          "text": "Longitude"
         }
        }
       }
      }
     },
     "metadata": {},
     "output_type": "display_data"
    }
   ],
   "source": [
    "figure = px.scatter(data_frame=D.iloc[0:501], x=\"Latitude\", y=\"Longitude\",\n",
    "                title=\"Latitude vs Longitude\")\n",
    "figure.show()"
   ]
  },
  {
   "cell_type": "code",
   "execution_count": 22,
   "id": "ede1f581-7119-4b1c-8a08-a3bfe927d256",
   "metadata": {
    "ExecuteTime": {
     "end_time": "2022-09-20T20:43:15.182121Z",
     "start_time": "2022-09-20T20:43:15.156778Z"
    },
    "deletable": false,
    "editable": false,
    "nbgrader": {
     "cell_type": "code",
     "checksum": "edcf8d374890cda7520b0ee6fad46b22",
     "grade": true,
     "grade_id": "cell-505a65dfd626e1e7",
     "locked": true,
     "points": 3,
     "schema_version": 3,
     "solution": false,
     "task": false
    }
   },
   "outputs": [
    {
     "name": "stdout",
     "output_type": "stream",
     "text": [
      "No errrors found this far, your code may work :)\n"
     ]
    }
   ],
   "source": [
    "errorfound=False\n",
    "Ncorrect=0\n",
    "if 'fig_scatter' not in globals():\n",
    "    print(\"fig_scatter not found! Please plot the figure, and store it to variable fig.\")\n",
    "    errorfound=True\n",
    "else:\n",
    "    if fig_scatter.axes.get_xlabel().startswith('Lati'):\n",
    "        Ncorrect +=1\n",
    "    else:\n",
    "        print(\"There is something wrong, plese recheckd\")\n",
    "        errorfound=True\n",
    "if not errorfound:\n",
    "    print(\"No errrors found this far, your code may work :)\")\n",
    "         "
   ]
  },
  {
   "cell_type": "code",
   "execution_count": 38,
   "id": "12bcaaa9",
   "metadata": {},
   "outputs": [
    {
     "data": {
      "text/plain": [
       "Index(['Acceleration.forward', 'Acceleration.side', 'Acceleration.up',\n",
       "       'Rotation.roll', 'Rotation.pitch', 'Rotation.yaw', 'RawPlayerLoad',\n",
       "       'SmoothedPlayerLoad', 'imuAcceleration.forward', 'imuAcceleration.side',\n",
       "       'imuAcceleration.up', 'imuOrientation.forward', 'imuOrientation.side',\n",
       "       'imuOrientation.up', 'Facing', 'Latitude', 'Longitude', 'Odometer',\n",
       "       'RawVelocity', 'SmoothedVelocity', 'GNSS.LPS.Acceleration',\n",
       "       'MetabolicPower', 'GNSS.Fix', 'GNSS.Strength', 'GNSS.HDOP',\n",
       "       'HeartRate'],\n",
       "      dtype='object')"
      ]
     },
     "execution_count": 38,
     "metadata": {},
     "output_type": "execute_result"
    }
   ],
   "source": [
    "D.columns"
   ]
  },
  {
   "cell_type": "code",
   "execution_count": 46,
   "id": "e409aa43",
   "metadata": {},
   "outputs": [
    {
     "data": {
      "image/png": "[encoded data removed]",
      "text/plain": [
       "<Figure size 1000x600 with 1 Axes>"
      ]
     },
     "metadata": {},
     "output_type": "display_data"
    }
   ],
   "source": [
    "import pandas as pd\n",
    "import seaborn as sns\n",
    "import matplotlib.pyplot as plt\n",
    "import numpy as np\n",
    "\n",
    "# Assuming you already have a DataFrame 'D' with the necessary data loaded\n",
    "\n",
    "# Step 1: Generate the x-axis values using NumPy linspace with 10 ms separation\n",
    "num_samples = 500\n",
    "time_step_ms = 10  # 10 ms separation\n",
    "x_values = np.linspace(0, (num_samples - 1) * time_step_ms / 1000, num_samples)  # Convert to seconds\n",
    "\n",
    "# Step 2: Create a Seaborn lineplot for the three accelerations between rows 0-500\n",
    "sns.set(style=\"darkgrid\")  # Set the style to 'darkgrid' for better visualization\n",
    "fig, ax = plt.subplots(figsize=(10, 6))  # Create a figure and axis for customization\n",
    "\n",
    "# Plot the three accelerations using Seaborn, specifying x and y\n",
    "sns.lineplot(x=x_values, y=D['Acceleration.forward'].iloc[:500], label='Forward Acceleration', ax=ax)\n",
    "sns.lineplot(x=x_values, y=D['Acceleration.side'].iloc[:500], label='Side Acceleration', ax=ax)\n",
    "sns.lineplot(x=x_values, y=D['Acceleration.up'].iloc[:500], label='Upward Acceleration', ax=ax)\n",
    "\n",
    "# Step 3: Define the label for the y-axis\n",
    "ax.set_ylabel('Acceleration $\\\\cdot 10 m/s^2$')\n",
    "\n",
    "# Step 4: Define the label for the x-axis\n",
    "ax.set_xlabel('Time (seconds)')\n",
    "\n",
    "# Add a legend to distinguish the three accelerations\n",
    "ax.legend()\n",
    "\n",
    "# Show the plot\n",
    "plt.show()\n"
   ]
  },
  {
   "cell_type": "code",
   "execution_count": null,
   "id": "e9f3d41a",
   "metadata": {},
   "outputs": [],
   "source": []
  }
 ],
 "metadata": {
  "kernelspec": {
   "display_name": "Python 3 (ipykernel)",
   "language": "python",
   "name": "python3"
  },
  "language_info": {
   "codemirror_mode": {
    "name": "ipython",
    "version": 3
   },
   "file_extension": ".py",
   "mimetype": "text/x-python",
   "name": "python",
   "nbconvert_exporter": "python",
   "pygments_lexer": "ipython3",
   "version": "3.9.13"
  },
  "toc": {
   "base_numbering": 1,
   "nav_menu": {},
   "number_sections": true,
   "sideBar": true,
   "skip_h1_title": false,
   "title_cell": "Table of Contents",
   "title_sidebar": "Contents",
   "toc_cell": false,
   "toc_position": {},
   "toc_section_display": true,
   "toc_window_display": false
  }
 },
 "nbformat": 4,
 "nbformat_minor": 5
}
