{
 "cells": [
  {
   "cell_type": "markdown",
   "id": "d296f558",
   "metadata": {},
   "source": [
    "# Applied Machine Learning (2022), exercises\n",
    "\n",
    "\n",
    "## General instructions for all exercises\n",
    "\n",
    "Follow the instructions and fill in your solution under the line marked by tag\n",
    "\n",
    "> YOUR CODE HERE\n",
    "\n",
    "Remove also line \n",
    "\n",
    "> raise NotImplementedError()\n",
    "\n",
    "**Do not change other areas of the document**, since it may disturb the autograding of your results!\n",
    "  \n",
    "Having written the answer, execute the code cell by and pressing `Shift-Enter` key combination. The code is run, and it may print some information under the code cell. The focus automatically moves to the next cell and you may \"execute\" that cell by pressing `Shift-Enter` again, until you have reached the code cell which tests your solution. Execute that and follow the feedback. Usually it either says that the solution seems acceptable, or reports some errors. You can go back to your solution, modify it and repeat everything until you are satisfied. Then proceed to the next task.\n",
    "   \n",
    "Repeat the process for all tasks.\n",
    "\n",
    "The notebook may also contain manually graded answers. Write your manually graded answer under the line marked by tag:\n",
    "\n",
    "> YOUR ANSWER HERE\n",
    "\n",
    "Manually graded tasks are text in markdown format. It may contain text, pseudocode, or mathematical formulas. You can write formulas with $\\LaTeX$-syntax by enclosing the formula with dollar signs (`$`), for example `$f(x)=2 \\pi / \\alpha$`, will produce $f(x)=2 \\pi / \\alpha$\n",
    "\n",
    "When you have passed the tests in the notebook, and you are ready to submit your solutions, download the whole notebook, using menu `File -> Download as -> Notebook (.ipynb)`. Save the file in your hard disk, and submit it in [Moodle](https://moodle.uwasa.fi) or EUNICE Moodle under the corresponding excercise.\n",
    "\n",
    "Your solution should be an executable Python code. Use the code already existing as an example of Python programing and read more from the numerous Python programming material from the Internet if necessary. \n"
   ]
  },
  {
   "cell_type": "code",
   "execution_count": null,
   "id": "62ada069",
   "metadata": {},
   "outputs": [],
   "source": []
  },
  {
   "cell_type": "markdown",
   "id": "daffe2b8",
   "metadata": {
    "deletable": false,
    "editable": false,
    "nbgrader": {
     "cell_type": "markdown",
     "checksum": "aba5e93ffe2abde5bfbd76f146bfa7d5",
     "grade": false,
     "grade_id": "cell-d4870dd21eeb6a3c",
     "locked": true,
     "schema_version": 3,
     "solution": false,
     "task": false
    }
   },
   "source": [
    "# Python warmup"
   ]
  },
  {
   "cell_type": "markdown",
   "id": "fe141740",
   "metadata": {
    "deletable": false,
    "editable": false,
    "nbgrader": {
     "cell_type": "markdown",
     "checksum": "daf042cc5312462226aca4a9c6a1a120",
     "grade": false,
     "grade_id": "cell-74afa41f6340dc6e",
     "locked": true,
     "schema_version": 3,
     "solution": false,
     "task": false
    }
   },
   "source": [
    "## Create a  python data structures\n",
    "\n",
    "1. Create an integer scalar variable `x`, and print it\n",
    "1. Create a python list, `l`, and print it using function `list()` or directly with syntax `l=[1,4,2,3]`\n",
    "1. Create a [numpy array](https://numpy.org/doc/stable/reference/generated/numpy.array.html), `a`, and print it. Tip: Import numpy library first by using: ```import numpy as np``` \n",
    "\n",
    "Python lists are suitable in many cases, but they are not efficient for large amounts of data or mathematical operations. Numpy arrays include a lot of useful functions which are packaged in numpy arrays."
   ]
  },
  {
   "cell_type": "code",
   "execution_count": null,
   "metadata": {},
   "outputs": [],
   "source": [
    "class Node:\n",
    "    def __init__(self, name):\n",
    "        self.name = name\n",
    "        self.visited = False\n",
    "        self.neighbors = []\n",
    "\n",
    "def bfs(node):\n",
    "    queue = []\n",
    "    queue.append(node)\n",
    "    node.visited = True\n",
    "\n",
    "    while queue:\n",
    "        current_node = queue.pop(0)\n",
    "        print(current_node.name)\n",
    "\n",
    "        for neighbor in current_node.neighbors:\n",
    "            if not neighbor.visited:\n",
    "                queue.append(neighbor)\n",
    "                neighbor.visited = True\n",
    "\n",
    "# Create the nodes in the graph\n",
    "nodes = {\n",
    "    \"R\": Node(\"R\"),\n",
    "    \"K\": Node(\"K\"),\n",
    "    \"2\": Node(\"2\"),\n",
    "    \"3\": Node(\"3\"),\n",
    "    \"4\": Node(\"4\"),\n",
    "    \"5\": Node(\"5\"),\n",
    "    \"6\": Node(\"6\"),\n",
    "}\n",
    "\n",
    "# Connect the nodes with edges\n",
    "nodes[\"R\"].neighbors = [nodes[\"2\"], nodes[\"K\"]]\n",
    "nodes[\"K\"].neighbors = [nodes[\"3\"], nodes[\"4\"]]\n",
    "nodes[\"2\"].neighbors = [nodes[\"5\"]]\n",
    "nodes[\"3\"].neighbors = [nodes[\"6\"]]\n",
    "\n",
    "# Start the BFS from node R\n",
    "bfs(nodes[\"R\"])"
   ]
  },
  {
   "cell_type": "code",
   "execution_count": 4,
   "id": "25ac66c7",
   "metadata": {
    "ExecuteTime": {
     "end_time": "2022-09-20T20:01:32.200637Z",
     "start_time": "2022-09-20T20:01:32.184648Z"
    },
    "deletable": false,
    "nbgrader": {
     "cell_type": "code",
     "checksum": "abb0208b2e7e9ab4875309931ebf4ad7",
     "grade": false,
     "grade_id": "cell-a60da60f60729900",
     "locked": false,
     "schema_version": 3,
     "solution": true,
     "task": false
    }
   },
   "outputs": [
    {
     "name": "stdout",
     "output_type": "stream",
     "text": [
      "5\n",
      "(1, 2, 3, 4, 5)\n",
      "[1 2 3 4]\n"
     ]
    }
   ],
   "source": [
    "import numpy as np\n",
    "x = 5\n",
    "print(x)\n",
    "l= (1,2,3,4,5)\n",
    "print(list)\n",
    "a = np.array((1,2,3,4), dtype=int)\n",
    "print(a)"
   ]
  },
  {
   "cell_type": "code",
   "execution_count": 3,
   "id": "d7070351",
   "metadata": {
    "ExecuteTime": {
     "end_time": "2022-09-20T20:41:10.962289Z",
     "start_time": "2022-09-20T20:41:10.936391Z"
    },
    "deletable": false,
    "editable": false,
    "nbgrader": {
     "cell_type": "code",
     "checksum": "c70b3ff239bf6c1164b263bd8fec5cbe",
     "grade": true,
     "grade_id": "cell-bc4eaa98d5b95c59",
     "locked": true,
     "points": 2,
     "schema_version": 3,
     "solution": false,
     "task": false
    }
   },
   "outputs": [
    {
     "name": "stdout",
     "output_type": "stream",
     "text": [
      "No errors found this far. Your code may work.\n"
     ]
    }
   ],
   "source": [
    "if 'x' not in globals():\n",
    "    print(\"x not found! Please define x as scalar variable.\")\n",
    "elif 'l' not in globals():\n",
    "    print(\"l not found! Please define l list.\")\n",
    "elif 'a' not in globals():\n",
    "    print(\"a not found! Please define a as numpy array.\")\n",
    "else:\n",
    "    print(\"No errors found this far. Your code may work.\")\n"
   ]
  },
  {
   "cell_type": "markdown",
   "id": "e0f3db40",
   "metadata": {
    "deletable": false,
    "editable": false,
    "nbgrader": {
     "cell_type": "markdown",
     "checksum": "7502d918dfa38b616d47f8623298f84b",
     "grade": false,
     "grade_id": "cell-e597abe8a05b8f2e",
     "locked": true,
     "schema_version": 3,
     "solution": false,
     "task": false
    }
   },
   "source": [
    "## Use numpy functions for creating arrays\n",
    "\n",
    "1. Create a numpy array, `values`, which has 100 consequent values between 0 and $\\pi$ using [np.linspace()](https://numpy.org/doc/stable/reference/generated/numpy.linspace.html?highlight=linspace#numpy.linspace). Use ```np.pi``` as constant for $\\pi$.\n",
    "1. Create a two-dimensional array `M` of 5x5 [zeros](https://numpy.org/doc/stable/reference/generated/numpy.zeros.html?highlight=zeros#numpy.zeros) or 5x5 [ones](https://numpy.org/doc/stable/reference/generated/numpy.ones.html?highlight=ones#numpy.ones). using appropriate functions\n",
    "1. Create one more 2 dimensional array with the following code ```A=np.array([[1,2,3], [4,5,6]])```\n",
    "\n",
    "**TIP:** to find out what other functions or constants are included in NumPy package, write `np.` in the command line, and press TAB-key to get a list of possible completions, or SHIFT-TAB to get the help window."
   ]
  },
  {
   "cell_type": "code",
   "execution_count": 11,
   "id": "3971e609",
   "metadata": {
    "ExecuteTime": {
     "end_time": "2022-09-20T20:21:27.130879Z",
     "start_time": "2022-09-20T20:21:27.121361Z"
    },
    "deletable": false,
    "nbgrader": {
     "cell_type": "code",
     "checksum": "9bc01314c7743edb485fbe6472668e3a",
     "grade": false,
     "grade_id": "cell-84bdec6840dac41f",
     "locked": false,
     "schema_version": 3,
     "solution": true,
     "task": false
    }
   },
   "outputs": [
    {
     "name": "stdout",
     "output_type": "stream",
     "text": [
      "[0.         0.06411414 0.12822827 0.19234241 0.25645654 0.32057068\n",
      " 0.38468481 0.44879895 0.51291309 0.57702722 0.64114136 0.70525549\n",
      " 0.76936963 0.83348377 0.8975979  0.96171204 1.02582617 1.08994031\n",
      " 1.15405444 1.21816858 1.28228272 1.34639685 1.41051099 1.47462512\n",
      " 1.53873926 1.60285339 1.66696753 1.73108167 1.7951958  1.85930994\n",
      " 1.92342407 1.98753821 2.05165235 2.11576648 2.17988062 2.24399475\n",
      " 2.30810889 2.37222302 2.43633716 2.5004513  2.56456543 2.62867957\n",
      " 2.6927937  2.75690784 2.82102197 2.88513611 2.94925025 3.01336438\n",
      " 3.07747852 3.14159265]\n",
      "[[0. 0. 0. 0. 0.]\n",
      " [0. 0. 0. 0. 0.]\n",
      " [0. 0. 0. 0. 0.]\n",
      " [0. 0. 0. 0. 0.]\n",
      " [0. 0. 0. 0. 0.]]\n",
      "[[1 2 3]\n",
      " [4 5 6]]\n"
     ]
    }
   ],
   "source": [
    "# YOUR CODE HERE\n",
    "values = np.linspace(0,np.pi)\n",
    "print(values)\n",
    "M = np.zeros((5,5))\n",
    "print(M)\n",
    "A = np.array([[1,2,3], [4,5,6]])\n",
    "print(A)"
   ]
  },
  {
   "cell_type": "code",
   "execution_count": 13,
   "id": "77dd5051",
   "metadata": {
    "ExecuteTime": {
     "end_time": "2022-09-20T20:21:27.604027Z",
     "start_time": "2022-09-20T20:21:27.586266Z"
    },
    "deletable": false,
    "editable": false,
    "nbgrader": {
     "cell_type": "code",
     "checksum": "ce7e251c0cba68eff257b90e44be88b0",
     "grade": true,
     "grade_id": "cell-8b10b5261858131d",
     "locked": true,
     "points": 3,
     "schema_version": 3,
     "solution": false,
     "task": false
    }
   },
   "outputs": [
    {
     "name": "stdout",
     "output_type": "stream",
     "text": [
      "No errrors found\n"
     ]
    }
   ],
   "source": [
    "errorfound=False\n",
    "require=('values', 'M', 'A')\n",
    "for var in require:\n",
    "    if var not in globals():\n",
    "        print(var, \"not found! Please define it.\")\n",
    "        errorfound=True\n",
    "if not errorfound:\n",
    "    print(\"No errrors found\")\n",
    "        "
   ]
  },
  {
   "cell_type": "markdown",
   "id": "d8f663ae",
   "metadata": {},
   "source": [
    "## Manipulate data structures\n",
    "1. Study the shape of previously created numpy arrays by using function ```.shape()``` included in the arrays you created.\n",
    "1. Try to calculate also the sum of all values in those arrays with ```.sum()``` function. Store the sum of array `values` to variable called `s`.\n",
    "1. Transpose a two dimensional array with function ```.T``` for example ```A.T``` and name the result as `tA`\n",
    "1. Transposing a one dimensional array looks sadly slightly illogical, because it needs to be also converted to two dimensional at the same time. The row vector `values` can be transposed to column vector with syntax `\n",
    "values.reshape(-1,1)`. Try it and name the result as `tvalues`. \n",
    "1. Try also to transpose the column vector back to row vector\n"
   ]
  },
  {
   "cell_type": "code",
   "execution_count": 14,
   "id": "e76b31ea",
   "metadata": {
    "ExecuteTime": {
     "end_time": "2022-09-20T20:30:02.385809Z",
     "start_time": "2022-09-20T20:30:02.378390Z"
    },
    "deletable": false,
    "nbgrader": {
     "cell_type": "code",
     "checksum": "e621162c43dbc7f97d7e9b5b326b72e5",
     "grade": false,
     "grade_id": "cell-3b75e463ba50584b",
     "locked": false,
     "schema_version": 3,
     "solution": true,
     "task": false
    }
   },
   "outputs": [
    {
     "data": {
      "text/plain": [
       "(50,)"
      ]
     },
     "execution_count": 14,
     "metadata": {},
     "output_type": "execute_result"
    }
   ],
   "source": [
    "values.shape"
   ]
  },
  {
   "cell_type": "code",
   "execution_count": 15,
   "id": "3bd18f14",
   "metadata": {},
   "outputs": [
    {
     "data": {
      "text/plain": [
       "(5, 5)"
      ]
     },
     "execution_count": 15,
     "metadata": {},
     "output_type": "execute_result"
    }
   ],
   "source": [
    "M.shape"
   ]
  },
  {
   "cell_type": "code",
   "execution_count": 16,
   "id": "88a4fd10",
   "metadata": {},
   "outputs": [
    {
     "data": {
      "text/plain": [
       "(2, 3)"
      ]
     },
     "execution_count": 16,
     "metadata": {},
     "output_type": "execute_result"
    }
   ],
   "source": [
    "A.shape"
   ]
  },
  {
   "cell_type": "code",
   "execution_count": 17,
   "id": "71463563",
   "metadata": {},
   "outputs": [],
   "source": [
    "s = values.sum()"
   ]
  },
  {
   "cell_type": "code",
   "execution_count": 20,
   "id": "1ece80b4",
   "metadata": {},
   "outputs": [],
   "source": [
    "tA = A.T"
   ]
  },
  {
   "cell_type": "code",
   "execution_count": 21,
   "id": "7364cdf2",
   "metadata": {},
   "outputs": [
    {
     "data": {
      "text/plain": [
       "array([[1, 4],\n",
       "       [2, 5],\n",
       "       [3, 6]])"
      ]
     },
     "execution_count": 21,
     "metadata": {},
     "output_type": "execute_result"
    }
   ],
   "source": [
    "tA"
   ]
  },
  {
   "cell_type": "code",
   "execution_count": 22,
   "id": "be01b4fc",
   "metadata": {},
   "outputs": [
    {
     "data": {
      "text/plain": [
       "array([[1, 2, 3],\n",
       "       [4, 5, 6]])"
      ]
     },
     "execution_count": 22,
     "metadata": {},
     "output_type": "execute_result"
    }
   ],
   "source": [
    "A"
   ]
  },
  {
   "cell_type": "code",
   "execution_count": 23,
   "id": "9937d1f7",
   "metadata": {},
   "outputs": [],
   "source": [
    "tvalues = values.reshape(-1,1)"
   ]
  },
  {
   "cell_type": "code",
   "execution_count": 24,
   "id": "c99d274a",
   "metadata": {},
   "outputs": [
    {
     "data": {
      "text/plain": [
       "array([[0.        ],\n",
       "       [0.06411414],\n",
       "       [0.12822827],\n",
       "       [0.19234241],\n",
       "       [0.25645654],\n",
       "       [0.32057068],\n",
       "       [0.38468481],\n",
       "       [0.44879895],\n",
       "       [0.51291309],\n",
       "       [0.57702722],\n",
       "       [0.64114136],\n",
       "       [0.70525549],\n",
       "       [0.76936963],\n",
       "       [0.83348377],\n",
       "       [0.8975979 ],\n",
       "       [0.96171204],\n",
       "       [1.02582617],\n",
       "       [1.08994031],\n",
       "       [1.15405444],\n",
       "       [1.21816858],\n",
       "       [1.28228272],\n",
       "       [1.34639685],\n",
       "       [1.41051099],\n",
       "       [1.47462512],\n",
       "       [1.53873926],\n",
       "       [1.60285339],\n",
       "       [1.66696753],\n",
       "       [1.73108167],\n",
       "       [1.7951958 ],\n",
       "       [1.85930994],\n",
       "       [1.92342407],\n",
       "       [1.98753821],\n",
       "       [2.05165235],\n",
       "       [2.11576648],\n",
       "       [2.17988062],\n",
       "       [2.24399475],\n",
       "       [2.30810889],\n",
       "       [2.37222302],\n",
       "       [2.43633716],\n",
       "       [2.5004513 ],\n",
       "       [2.56456543],\n",
       "       [2.62867957],\n",
       "       [2.6927937 ],\n",
       "       [2.75690784],\n",
       "       [2.82102197],\n",
       "       [2.88513611],\n",
       "       [2.94925025],\n",
       "       [3.01336438],\n",
       "       [3.07747852],\n",
       "       [3.14159265]])"
      ]
     },
     "execution_count": 24,
     "metadata": {},
     "output_type": "execute_result"
    }
   ],
   "source": [
    "tvalues"
   ]
  },
  {
   "cell_type": "code",
   "execution_count": 25,
   "id": "6766a2fb",
   "metadata": {
    "ExecuteTime": {
     "end_time": "2022-09-20T20:31:49.438999Z",
     "start_time": "2022-09-20T20:31:49.403810Z"
    },
    "deletable": false,
    "editable": false,
    "nbgrader": {
     "cell_type": "code",
     "checksum": "d2bc05a341a02e5749a1ad3e873c8164",
     "grade": true,
     "grade_id": "cell-505a65dfd626e1e6",
     "locked": true,
     "points": 2,
     "schema_version": 3,
     "solution": false,
     "task": false
    }
   },
   "outputs": [],
   "source": [
    "\n",
    "\n",
    "require=('s', 'tA', 'tvalues')\n",
    "for var in require:\n",
    "    if var not in globals():\n",
    "        print(var, \"not found! Please define it.\")\n",
    "        "
   ]
  },
  {
   "cell_type": "markdown",
   "id": "a76bea51",
   "metadata": {},
   "source": [
    "# Language featuers\n",
    "\n",
    "Answer shortly, with explanations to the following questions\n",
    "1. Is Python an object oriented language?\n",
    "1. Is Python interpreted or compiled language?\n",
    "1. Is Python fast to run?"
   ]
  },
  {
   "cell_type": "markdown",
   "id": "781c9145",
   "metadata": {
    "deletable": false,
    "nbgrader": {
     "cell_type": "markdown",
     "checksum": "e73fabe88214d82f70e5d11e38083371",
     "grade": true,
     "grade_id": "cell-7dfa1cd49de6c25b",
     "locked": false,
     "points": 3,
     "schema_version": 3,
     "solution": true,
     "task": false
    }
   },
   "source": [
    "YOUR ANSWER HERE"
   ]
  },
  {
   "cell_type": "markdown",
   "id": "22cb05dc",
   "metadata": {},
   "source": [
    "## Summary\n",
    "1. NumPy arrays are very important data structures in Python for machine learning and mathematical operations\n",
    "1. Numpy arrays can be 1 dimensional or many dimensional\n",
    "1. Two dimensional arrays can be transposed like matrices in mathematics \n",
    "1. Numpy arrays contain a large amount of functions which can be applied to their content"
   ]
  }
 ],
 "metadata": {
  "kernelspec": {
   "display_name": "Python 3 (ipykernel)",
   "language": "python",
   "name": "python3"
  },
  "language_info": {
   "codemirror_mode": {
    "name": "ipython",
    "version": 3
   },
   "file_extension": ".py",
   "mimetype": "text/x-python",
   "name": "python",
   "nbconvert_exporter": "python",
   "pygments_lexer": "ipython3",
   "version": "3.9.13"
  },
  "toc": {
   "base_numbering": 1,
   "nav_menu": {},
   "number_sections": true,
   "sideBar": true,
   "skip_h1_title": false,
   "title_cell": "Table of Contents",
   "title_sidebar": "Contents",
   "toc_cell": false,
   "toc_position": {},
   "toc_section_display": true,
   "toc_window_display": false
  }
 },
 "nbformat": 4,
 "nbformat_minor": 5
}
