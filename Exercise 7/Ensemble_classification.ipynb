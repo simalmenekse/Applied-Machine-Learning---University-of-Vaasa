{
 "cells": [
  {
   "cell_type": "markdown",
   "id": "99ee49e9",
   "metadata": {},
   "source": [
    "# Applied Machine Learning (2023), exercises\n",
    "\n",
    "\n",
    "## General instructions for all exercises\n",
    "\n",
    "Follow the instructions and fill in your solution under the line marked by tag\n",
    "\n",
    "> YOUR CODE HERE\n",
    "\n",
    "Remove also line \n",
    "\n",
    "> raise NotImplementedError()\n",
    "\n",
    "**Do not change other areas of the document**, since it may disturb the autograding of your results!\n",
    "  \n",
    "Having written the answer, execute the code cell by and pressing `Shift-Enter` key combination. The code is run, and it may print some information under the code cell. The focus automatically moves to the next cell and you may \"execute\" that cell by pressing `Shift-Enter` again, until you have reached the code cell which tests your solution. Execute that and follow the feedback. Usually it either says that the solution seems acceptable, or reports some errors. You can go back to your solution, modify it and repeat everything until you are satisfied. Then proceed to the next task.\n",
    "   \n",
    "Repeat the process for all tasks.\n",
    "\n",
    "The notebook may also contain manually graded answers. Write your manually graded answer under the line marked by tag:\n",
    "\n",
    "> YOUR ANSWER HERE\n",
    "\n",
    "Manually graded tasks are text in markdown format. It may contain text, pseudocode, or mathematical formulas. You can write formulas with $\\LaTeX$-syntax by enclosing the formula with dollar signs (`$`), for example `$f(x)=2 \\pi / \\alpha$`, will produce $f(x)=2 \\pi / \\alpha$\n",
    "\n",
    "When you have passed the tests in the notebook, and you are ready to submit your solutions, validate and submit your solution using the nbgrader tools from the `Nbgrader/Assignment List`-menu.\n"
   ]
  },
  {
   "cell_type": "code",
   "execution_count": null,
   "id": "ab3f25ed",
   "metadata": {},
   "outputs": [],
   "source": []
  },
  {
   "cell_type": "markdown",
   "id": "437096ad-2d38-41a3-9d96-273e0afde5fe",
   "metadata": {},
   "source": [
    "# Ensemble classification and hyperparameter tuning\n",
    "## Preparations"
   ]
  },
  {
   "cell_type": "code",
   "execution_count": 1,
   "id": "9557c18b-3e35-4650-a009-cf6cd4adca7a",
   "metadata": {},
   "outputs": [],
   "source": [
    "import numpy as np\n",
    "import pandas as pd\n",
    "import matplotlib.pyplot as plt\n",
    "import seaborn as sns\n",
    "sns.set()  # for plot styling"
   ]
  },
  {
   "cell_type": "code",
   "execution_count": 2,
   "id": "ba0bbfb2-0a3e-40eb-b587-3ff45e53cac0",
   "metadata": {},
   "outputs": [
    {
     "name": "stdout",
     "output_type": "stream",
     "text": [
      "['collagen' 'glycogen' 'lipids' 'DNA']\n"
     ]
    }
   ],
   "source": [
    "# Read the previously used liver spectroscopy data set\n",
    "D = pd.read_table('liver-spectroscopy.tab')\n",
    "\n",
    "# Print the classes\n",
    "print(D.type.unique())\n",
    "\n",
    "# Separate the true classes out from the data, into separate variable\n",
    "types=pd.Categorical(D.type)"
   ]
  },
  {
   "cell_type": "code",
   "execution_count": 10,
   "id": "6cae59aa",
   "metadata": {},
   "outputs": [],
   "source": [
    "X = D.drop('type', axis=1)"
   ]
  },
  {
   "cell_type": "code",
   "execution_count": 11,
   "id": "81e3df39",
   "metadata": {},
   "outputs": [],
   "source": [
    "y = types"
   ]
  },
  {
   "cell_type": "code",
   "execution_count": 3,
   "id": "4a65628d-654f-4323-851c-c5ac974c0637",
   "metadata": {},
   "outputs": [
    {
     "data": {
      "text/html": [
       "<div>\n",
       "<style scoped>\n",
       "    .dataframe tbody tr th:only-of-type {\n",
       "        vertical-align: middle;\n",
       "    }\n",
       "\n",
       "    .dataframe tbody tr th {\n",
       "        vertical-align: top;\n",
       "    }\n",
       "\n",
       "    .dataframe thead th {\n",
       "        text-align: right;\n",
       "    }\n",
       "</style>\n",
       "<table border=\"1\" class=\"dataframe\">\n",
       "  <thead>\n",
       "    <tr style=\"text-align: right;\">\n",
       "      <th></th>\n",
       "      <th>1801</th>\n",
       "      <th>1797</th>\n",
       "      <th>1793</th>\n",
       "      <th>1789</th>\n",
       "      <th>1785</th>\n",
       "      <th>1781</th>\n",
       "      <th>1778</th>\n",
       "      <th>1774</th>\n",
       "      <th>1770</th>\n",
       "      <th>1766</th>\n",
       "      <th>...</th>\n",
       "      <th>937</th>\n",
       "      <th>933</th>\n",
       "      <th>929</th>\n",
       "      <th>925</th>\n",
       "      <th>921</th>\n",
       "      <th>917</th>\n",
       "      <th>914</th>\n",
       "      <th>910</th>\n",
       "      <th>906</th>\n",
       "      <th>902</th>\n",
       "    </tr>\n",
       "  </thead>\n",
       "  <tbody>\n",
       "    <tr>\n",
       "      <th>27</th>\n",
       "      <td>0.130</td>\n",
       "      <td>0.131</td>\n",
       "      <td>0.132</td>\n",
       "      <td>0.133</td>\n",
       "      <td>0.133</td>\n",
       "      <td>0.134</td>\n",
       "      <td>0.135</td>\n",
       "      <td>0.137</td>\n",
       "      <td>0.138</td>\n",
       "      <td>0.139</td>\n",
       "      <td>...</td>\n",
       "      <td>0.207</td>\n",
       "      <td>0.207</td>\n",
       "      <td>0.206</td>\n",
       "      <td>0.204</td>\n",
       "      <td>0.202</td>\n",
       "      <td>0.200</td>\n",
       "      <td>0.197</td>\n",
       "      <td>0.194</td>\n",
       "      <td>0.192</td>\n",
       "      <td>0.190</td>\n",
       "    </tr>\n",
       "    <tr>\n",
       "      <th>477</th>\n",
       "      <td>0.087</td>\n",
       "      <td>0.086</td>\n",
       "      <td>0.086</td>\n",
       "      <td>0.085</td>\n",
       "      <td>0.084</td>\n",
       "      <td>0.084</td>\n",
       "      <td>0.084</td>\n",
       "      <td>0.086</td>\n",
       "      <td>0.091</td>\n",
       "      <td>0.102</td>\n",
       "      <td>...</td>\n",
       "      <td>0.200</td>\n",
       "      <td>0.200</td>\n",
       "      <td>0.200</td>\n",
       "      <td>0.201</td>\n",
       "      <td>0.202</td>\n",
       "      <td>0.201</td>\n",
       "      <td>0.200</td>\n",
       "      <td>0.197</td>\n",
       "      <td>0.196</td>\n",
       "      <td>0.196</td>\n",
       "    </tr>\n",
       "    <tr>\n",
       "      <th>82</th>\n",
       "      <td>0.139</td>\n",
       "      <td>0.140</td>\n",
       "      <td>0.140</td>\n",
       "      <td>0.141</td>\n",
       "      <td>0.141</td>\n",
       "      <td>0.142</td>\n",
       "      <td>0.143</td>\n",
       "      <td>0.145</td>\n",
       "      <td>0.146</td>\n",
       "      <td>0.148</td>\n",
       "      <td>...</td>\n",
       "      <td>0.231</td>\n",
       "      <td>0.231</td>\n",
       "      <td>0.231</td>\n",
       "      <td>0.231</td>\n",
       "      <td>0.230</td>\n",
       "      <td>0.228</td>\n",
       "      <td>0.225</td>\n",
       "      <td>0.223</td>\n",
       "      <td>0.221</td>\n",
       "      <td>0.220</td>\n",
       "    </tr>\n",
       "    <tr>\n",
       "      <th>580</th>\n",
       "      <td>0.065</td>\n",
       "      <td>0.065</td>\n",
       "      <td>0.066</td>\n",
       "      <td>0.066</td>\n",
       "      <td>0.066</td>\n",
       "      <td>0.066</td>\n",
       "      <td>0.068</td>\n",
       "      <td>0.071</td>\n",
       "      <td>0.077</td>\n",
       "      <td>0.085</td>\n",
       "      <td>...</td>\n",
       "      <td>0.245</td>\n",
       "      <td>0.246</td>\n",
       "      <td>0.248</td>\n",
       "      <td>0.249</td>\n",
       "      <td>0.250</td>\n",
       "      <td>0.249</td>\n",
       "      <td>0.247</td>\n",
       "      <td>0.244</td>\n",
       "      <td>0.243</td>\n",
       "      <td>0.242</td>\n",
       "    </tr>\n",
       "    <tr>\n",
       "      <th>414</th>\n",
       "      <td>0.062</td>\n",
       "      <td>0.063</td>\n",
       "      <td>0.064</td>\n",
       "      <td>0.065</td>\n",
       "      <td>0.066</td>\n",
       "      <td>0.068</td>\n",
       "      <td>0.069</td>\n",
       "      <td>0.073</td>\n",
       "      <td>0.080</td>\n",
       "      <td>0.090</td>\n",
       "      <td>...</td>\n",
       "      <td>0.246</td>\n",
       "      <td>0.246</td>\n",
       "      <td>0.246</td>\n",
       "      <td>0.247</td>\n",
       "      <td>0.246</td>\n",
       "      <td>0.244</td>\n",
       "      <td>0.241</td>\n",
       "      <td>0.238</td>\n",
       "      <td>0.235</td>\n",
       "      <td>0.233</td>\n",
       "    </tr>\n",
       "    <tr>\n",
       "      <th>666</th>\n",
       "      <td>0.143</td>\n",
       "      <td>0.144</td>\n",
       "      <td>0.144</td>\n",
       "      <td>0.145</td>\n",
       "      <td>0.146</td>\n",
       "      <td>0.147</td>\n",
       "      <td>0.148</td>\n",
       "      <td>0.149</td>\n",
       "      <td>0.152</td>\n",
       "      <td>0.155</td>\n",
       "      <td>...</td>\n",
       "      <td>0.200</td>\n",
       "      <td>0.200</td>\n",
       "      <td>0.200</td>\n",
       "      <td>0.199</td>\n",
       "      <td>0.197</td>\n",
       "      <td>0.196</td>\n",
       "      <td>0.193</td>\n",
       "      <td>0.191</td>\n",
       "      <td>0.188</td>\n",
       "      <td>0.185</td>\n",
       "    </tr>\n",
       "    <tr>\n",
       "      <th>235</th>\n",
       "      <td>0.127</td>\n",
       "      <td>0.127</td>\n",
       "      <td>0.127</td>\n",
       "      <td>0.128</td>\n",
       "      <td>0.128</td>\n",
       "      <td>0.129</td>\n",
       "      <td>0.130</td>\n",
       "      <td>0.131</td>\n",
       "      <td>0.133</td>\n",
       "      <td>0.134</td>\n",
       "      <td>...</td>\n",
       "      <td>0.217</td>\n",
       "      <td>0.218</td>\n",
       "      <td>0.218</td>\n",
       "      <td>0.216</td>\n",
       "      <td>0.213</td>\n",
       "      <td>0.210</td>\n",
       "      <td>0.205</td>\n",
       "      <td>0.201</td>\n",
       "      <td>0.198</td>\n",
       "      <td>0.195</td>\n",
       "    </tr>\n",
       "    <tr>\n",
       "      <th>582</th>\n",
       "      <td>0.114</td>\n",
       "      <td>0.115</td>\n",
       "      <td>0.116</td>\n",
       "      <td>0.117</td>\n",
       "      <td>0.117</td>\n",
       "      <td>0.118</td>\n",
       "      <td>0.119</td>\n",
       "      <td>0.122</td>\n",
       "      <td>0.127</td>\n",
       "      <td>0.133</td>\n",
       "      <td>...</td>\n",
       "      <td>0.234</td>\n",
       "      <td>0.235</td>\n",
       "      <td>0.235</td>\n",
       "      <td>0.236</td>\n",
       "      <td>0.236</td>\n",
       "      <td>0.235</td>\n",
       "      <td>0.233</td>\n",
       "      <td>0.231</td>\n",
       "      <td>0.229</td>\n",
       "      <td>0.228</td>\n",
       "    </tr>\n",
       "    <tr>\n",
       "      <th>388</th>\n",
       "      <td>0.133</td>\n",
       "      <td>0.134</td>\n",
       "      <td>0.135</td>\n",
       "      <td>0.135</td>\n",
       "      <td>0.134</td>\n",
       "      <td>0.135</td>\n",
       "      <td>0.135</td>\n",
       "      <td>0.138</td>\n",
       "      <td>0.140</td>\n",
       "      <td>0.139</td>\n",
       "      <td>...</td>\n",
       "      <td>0.225</td>\n",
       "      <td>0.225</td>\n",
       "      <td>0.224</td>\n",
       "      <td>0.222</td>\n",
       "      <td>0.219</td>\n",
       "      <td>0.216</td>\n",
       "      <td>0.212</td>\n",
       "      <td>0.207</td>\n",
       "      <td>0.202</td>\n",
       "      <td>0.199</td>\n",
       "    </tr>\n",
       "    <tr>\n",
       "      <th>37</th>\n",
       "      <td>0.135</td>\n",
       "      <td>0.135</td>\n",
       "      <td>0.136</td>\n",
       "      <td>0.137</td>\n",
       "      <td>0.137</td>\n",
       "      <td>0.137</td>\n",
       "      <td>0.138</td>\n",
       "      <td>0.140</td>\n",
       "      <td>0.142</td>\n",
       "      <td>0.144</td>\n",
       "      <td>...</td>\n",
       "      <td>0.220</td>\n",
       "      <td>0.221</td>\n",
       "      <td>0.220</td>\n",
       "      <td>0.220</td>\n",
       "      <td>0.219</td>\n",
       "      <td>0.217</td>\n",
       "      <td>0.215</td>\n",
       "      <td>0.212</td>\n",
       "      <td>0.210</td>\n",
       "      <td>0.208</td>\n",
       "    </tr>\n",
       "  </tbody>\n",
       "</table>\n",
       "<p>10 rows × 234 columns</p>\n",
       "</div>"
      ],
      "text/plain": [
       "      1801   1797   1793   1789   1785   1781   1778   1774   1770   1766  \\\n",
       "27   0.130  0.131  0.132  0.133  0.133  0.134  0.135  0.137  0.138  0.139   \n",
       "477  0.087  0.086  0.086  0.085  0.084  0.084  0.084  0.086  0.091  0.102   \n",
       "82   0.139  0.140  0.140  0.141  0.141  0.142  0.143  0.145  0.146  0.148   \n",
       "580  0.065  0.065  0.066  0.066  0.066  0.066  0.068  0.071  0.077  0.085   \n",
       "414  0.062  0.063  0.064  0.065  0.066  0.068  0.069  0.073  0.080  0.090   \n",
       "666  0.143  0.144  0.144  0.145  0.146  0.147  0.148  0.149  0.152  0.155   \n",
       "235  0.127  0.127  0.127  0.128  0.128  0.129  0.130  0.131  0.133  0.134   \n",
       "582  0.114  0.115  0.116  0.117  0.117  0.118  0.119  0.122  0.127  0.133   \n",
       "388  0.133  0.134  0.135  0.135  0.134  0.135  0.135  0.138  0.140  0.139   \n",
       "37   0.135  0.135  0.136  0.137  0.137  0.137  0.138  0.140  0.142  0.144   \n",
       "\n",
       "     ...   937    933    929    925    921    917    914    910    906    902   \n",
       "27   ...  0.207  0.207  0.206  0.204  0.202  0.200  0.197  0.194  0.192  0.190  \n",
       "477  ...  0.200  0.200  0.200  0.201  0.202  0.201  0.200  0.197  0.196  0.196  \n",
       "82   ...  0.231  0.231  0.231  0.231  0.230  0.228  0.225  0.223  0.221  0.220  \n",
       "580  ...  0.245  0.246  0.248  0.249  0.250  0.249  0.247  0.244  0.243  0.242  \n",
       "414  ...  0.246  0.246  0.246  0.247  0.246  0.244  0.241  0.238  0.235  0.233  \n",
       "666  ...  0.200  0.200  0.200  0.199  0.197  0.196  0.193  0.191  0.188  0.185  \n",
       "235  ...  0.217  0.218  0.218  0.216  0.213  0.210  0.205  0.201  0.198  0.195  \n",
       "582  ...  0.234  0.235  0.235  0.236  0.236  0.235  0.233  0.231  0.229  0.228  \n",
       "388  ...  0.225  0.225  0.224  0.222  0.219  0.216  0.212  0.207  0.202  0.199  \n",
       "37   ...  0.220  0.221  0.220  0.220  0.219  0.217  0.215  0.212  0.210  0.208  \n",
       "\n",
       "[10 rows x 234 columns]"
      ]
     },
     "metadata": {},
     "output_type": "display_data"
    },
    {
     "data": {
      "text/plain": [
       "<Axes: >"
      ]
     },
     "execution_count": 3,
     "metadata": {},
     "output_type": "execute_result"
    },
    {
     "data": {
      "image/png": "[encoded data removed]",
      "text/plain": [
       "<Figure size 640x480 with 1 Axes>"
      ]
     },
     "metadata": {},
     "output_type": "display_data"
    }
   ],
   "source": [
    "# Parse the column index to integer wavelengths using a lambda-function\n",
    "wl=D.columns[:-1].map(lambda x: int(float(x)))\n",
    "\n",
    "# Separate the numerical data from liver spectroscopy to design matrix X\n",
    "X=D.iloc[:,:-1]\n",
    "\n",
    "# Assign numerical values to column names, so that the plot is prettier\n",
    "X.columns=wl\n",
    "\n",
    "# Print and plot 10 randomly selected samples from the data\n",
    "sample=X.sample(10)\n",
    "display(sample)\n",
    "sample.T.plot()"
   ]
  },
  {
   "cell_type": "markdown",
   "id": "7cbca0a4-66ae-4b9a-ba60-13370e0e40a2",
   "metadata": {},
   "source": [
    "## Task 1: Apply the extratrees classifier\n",
    "\n",
    "Import Extratrees classifier from `sklearn.ensemble`, instantiate a classifier with following parameters. \n",
    " - number of estimators = 10\n",
    " - maximum depth = 3\n",
    " - minimum samples split = 2\n",
    "\n",
    "When the predictor is trained with these ad-hoc parameters, study its performance with following 5 methods\n",
    "\n",
    " 1. Styled confusion matrix: `display(pd.crosstab(....))`\n",
    " 3. Accuracy: `print(metrics.accuracy_score(...))`\n",
    " 4. More accuracy measures: `print(metrics.classification_report(...))`\n",
    " 5. Check accuracy with cross validation: `print(cross_val_score(...))` using three-fold cross validation\n",
    " 6. Calculate the mean of cross validation results over all folds\n",
    "\n",
    "You can check what recall and f1-score means from SKlearn documentation, page [Precision-Recall](https://scikit-learn.org/stable/auto_examples/model_selection/plot_precision_recall.html)\n",
    "\n",
    "You can import [Extratrees classifier](https://scikit-learn.org/stable/modules/generated/sklearn.ensemble.ExtraTreesClassifier.html#sklearn.ensemble.ExtraTreesClassifier) from [sklearn.ensemble](https://scikit-learn.org/stable/modules/classes.html#module-sklearn.ensemble) Import also [metrics](https://scikit-learn.org/stable/modules/classes.html#module-sklearn.metrics) from sklearn since it contains all important classifier metrices. And import cross_val_score from [sklearn.model_selection](https://scikit-learn.org/stable/modules/classes.html#module-sklearn.model_selection)\n",
    "\n",
    "Name your variables according to the following table, in order to make the autograder tests to work:\n",
    "\n",
    "| Variable | Name |\n",
    "| -------- | ------|\n",
    "| classifier, estimator | `est` |\n",
    "| Accuracy | `accuracy` |\n",
    "| Cross val accuracy | `cv_accuracy` |\n",
    "| Confusion matrix, made with crosstab | `cm` |"
   ]
  },
  {
   "cell_type": "code",
   "execution_count": 7,
   "id": "a1a1b5e9-cd7a-47a3-b2e7-b9fe4f5ae33b",
   "metadata": {
    "deletable": false,
    "nbgrader": {
     "cell_type": "code",
     "checksum": "b0c1f201c4d0b1e6f2975d292eecc2f3",
     "grade": false,
     "grade_id": "cell-8a3246a6c6d7ca95",
     "locked": false,
     "schema_version": 3,
     "solution": true,
     "task": false
    }
   },
   "outputs": [],
   "source": [
    "from sklearn.ensemble import ExtraTreesClassifier\n",
    "from sklearn.model_selection import cross_val_score, train_test_split\n",
    "from sklearn.metrics import accuracy_score, classification_report, confusion_matrix"
   ]
  },
  {
   "cell_type": "code",
   "execution_count": 6,
   "id": "e455b691",
   "metadata": {},
   "outputs": [],
   "source": [
    "est = ExtraTreesClassifier(n_estimators=10, max_depth=3, min_samples_split=2)"
   ]
  },
  {
   "cell_type": "code",
   "execution_count": 13,
   "id": "bc35b33e",
   "metadata": {},
   "outputs": [],
   "source": [
    "X_train, X_test, y_train, y_test = train_test_split(X, y, test_size=0.2, random_state=42)"
   ]
  },
  {
   "cell_type": "code",
   "execution_count": 14,
   "id": "613cf6e5",
   "metadata": {},
   "outputs": [
    {
     "data": {
      "text/html": [
       "<style>#sk-container-id-1 {color: black;background-color: white;}#sk-container-id-1 pre{padding: 0;}#sk-container-id-1 div.sk-toggleable {background-color: white;}#sk-container-id-1 label.sk-toggleable__label {cursor: pointer;display: block;width: 100%;margin-bottom: 0;padding: 0.3em;box-sizing: border-box;text-align: center;}#sk-container-id-1 label.sk-toggleable__label-arrow:before {content: \"▸\";float: left;margin-right: 0.25em;color: #696969;}#sk-container-id-1 label.sk-toggleable__label-arrow:hover:before {color: black;}#sk-container-id-1 div.sk-estimator:hover label.sk-toggleable__label-arrow:before {color: black;}#sk-container-id-1 div.sk-toggleable__content {max-height: 0;max-width: 0;overflow: hidden;text-align: left;background-color: #f0f8ff;}#sk-container-id-1 div.sk-toggleable__content pre {margin: 0.2em;color: black;border-radius: 0.25em;background-color: #f0f8ff;}#sk-container-id-1 input.sk-toggleable__control:checked~div.sk-toggleable__content {max-height: 200px;max-width: 100%;overflow: auto;}#sk-container-id-1 input.sk-toggleable__control:checked~label.sk-toggleable__label-arrow:before {content: \"▾\";}#sk-container-id-1 div.sk-estimator input.sk-toggleable__control:checked~label.sk-toggleable__label {background-color: #d4ebff;}#sk-container-id-1 div.sk-label input.sk-toggleable__control:checked~label.sk-toggleable__label {background-color: #d4ebff;}#sk-container-id-1 input.sk-hidden--visually {border: 0;clip: rect(1px 1px 1px 1px);clip: rect(1px, 1px, 1px, 1px);height: 1px;margin: -1px;overflow: hidden;padding: 0;position: absolute;width: 1px;}#sk-container-id-1 div.sk-estimator {font-family: monospace;background-color: #f0f8ff;border: 1px dotted black;border-radius: 0.25em;box-sizing: border-box;margin-bottom: 0.5em;}#sk-container-id-1 div.sk-estimator:hover {background-color: #d4ebff;}#sk-container-id-1 div.sk-parallel-item::after {content: \"\";width: 100%;border-bottom: 1px solid gray;flex-grow: 1;}#sk-container-id-1 div.sk-label:hover label.sk-toggleable__label {background-color: #d4ebff;}#sk-container-id-1 div.sk-serial::before {content: \"\";position: absolute;border-left: 1px solid gray;box-sizing: border-box;top: 0;bottom: 0;left: 50%;z-index: 0;}#sk-container-id-1 div.sk-serial {display: flex;flex-direction: column;align-items: center;background-color: white;padding-right: 0.2em;padding-left: 0.2em;position: relative;}#sk-container-id-1 div.sk-item {position: relative;z-index: 1;}#sk-container-id-1 div.sk-parallel {display: flex;align-items: stretch;justify-content: center;background-color: white;position: relative;}#sk-container-id-1 div.sk-item::before, #sk-container-id-1 div.sk-parallel-item::before {content: \"\";position: absolute;border-left: 1px solid gray;box-sizing: border-box;top: 0;bottom: 0;left: 50%;z-index: -1;}#sk-container-id-1 div.sk-parallel-item {display: flex;flex-direction: column;z-index: 1;position: relative;background-color: white;}#sk-container-id-1 div.sk-parallel-item:first-child::after {align-self: flex-end;width: 50%;}#sk-container-id-1 div.sk-parallel-item:last-child::after {align-self: flex-start;width: 50%;}#sk-container-id-1 div.sk-parallel-item:only-child::after {width: 0;}#sk-container-id-1 div.sk-dashed-wrapped {border: 1px dashed gray;margin: 0 0.4em 0.5em 0.4em;box-sizing: border-box;padding-bottom: 0.4em;background-color: white;}#sk-container-id-1 div.sk-label label {font-family: monospace;font-weight: bold;display: inline-block;line-height: 1.2em;}#sk-container-id-1 div.sk-label-container {text-align: center;}#sk-container-id-1 div.sk-container {/* jupyter's `normalize.less` sets `[hidden] { display: none; }` but bootstrap.min.css set `[hidden] { display: none !important; }` so we also need the `!important` here to be able to override the default hidden behavior on the sphinx rendered scikit-learn.org. See: https://github.com/scikit-learn/scikit-learn/issues/21755 */display: inline-block !important;position: relative;}#sk-container-id-1 div.sk-text-repr-fallback {display: none;}</style><div id=\"sk-container-id-1\" class=\"sk-top-container\"><div class=\"sk-text-repr-fallback\"><pre>ExtraTreesClassifier(max_depth=3, n_estimators=10)</pre><b>In a Jupyter environment, please rerun this cell to show the HTML representation or trust the notebook. <br />On GitHub, the HTML representation is unable to render, please try loading this page with nbviewer.org.</b></div><div class=\"sk-container\" hidden><div class=\"sk-item\"><div class=\"sk-estimator sk-toggleable\"><input class=\"sk-toggleable__control sk-hidden--visually\" id=\"sk-estimator-id-1\" type=\"checkbox\" checked><label for=\"sk-estimator-id-1\" class=\"sk-toggleable__label sk-toggleable__label-arrow\">ExtraTreesClassifier</label><div class=\"sk-toggleable__content\"><pre>ExtraTreesClassifier(max_depth=3, n_estimators=10)</pre></div></div></div></div></div>"
      ],
      "text/plain": [
       "ExtraTreesClassifier(max_depth=3, n_estimators=10)"
      ]
     },
     "execution_count": 14,
     "metadata": {},
     "output_type": "execute_result"
    }
   ],
   "source": [
    "est.fit(X_train, y_train)"
   ]
  },
  {
   "cell_type": "code",
   "execution_count": 15,
   "id": "ec333c4d",
   "metadata": {},
   "outputs": [],
   "source": [
    "y_pred = est.predict(X_test)"
   ]
  },
  {
   "cell_type": "code",
   "execution_count": 17,
   "id": "c36161ba",
   "metadata": {},
   "outputs": [
    {
     "name": "stdout",
     "output_type": "stream",
     "text": [
      "0.9251700680272109\n"
     ]
    }
   ],
   "source": [
    "accuracy = accuracy_score(y_test, y_pred)\n",
    "print(accuracy)"
   ]
  },
  {
   "cell_type": "code",
   "execution_count": 18,
   "id": "6ea1fcc4",
   "metadata": {},
   "outputs": [
    {
     "name": "stdout",
     "output_type": "stream",
     "text": [
      "              precision    recall  f1-score   support\n",
      "\n",
      "         DNA       1.00      0.45      0.62        20\n",
      "    collagen       0.79      1.00      0.88        42\n",
      "    glycogen       1.00      1.00      1.00        47\n",
      "      lipids       1.00      1.00      1.00        38\n",
      "\n",
      "    accuracy                           0.93       147\n",
      "   macro avg       0.95      0.86      0.88       147\n",
      "weighted avg       0.94      0.93      0.92       147\n",
      "\n"
     ]
    }
   ],
   "source": [
    "print(classification_report(y_test, y_pred))"
   ]
  },
  {
   "cell_type": "code",
   "execution_count": 20,
   "id": "b2d66613",
   "metadata": {},
   "outputs": [
    {
     "data": {
      "text/plain": [
       "0.9486650806238436"
      ]
     },
     "execution_count": 20,
     "metadata": {},
     "output_type": "execute_result"
    }
   ],
   "source": [
    "cv_scores = cross_val_score(est, X_train, y_train, cv=3)\n",
    "cv_accuracy = np.mean(cv_scores)\n",
    "cv_accuracy"
   ]
  },
  {
   "cell_type": "code",
   "execution_count": 22,
   "id": "66ef8d9a",
   "metadata": {},
   "outputs": [
    {
     "data": {
      "text/html": [
       "<div>\n",
       "<style scoped>\n",
       "    .dataframe tbody tr th:only-of-type {\n",
       "        vertical-align: middle;\n",
       "    }\n",
       "\n",
       "    .dataframe tbody tr th {\n",
       "        vertical-align: top;\n",
       "    }\n",
       "\n",
       "    .dataframe thead th {\n",
       "        text-align: right;\n",
       "    }\n",
       "</style>\n",
       "<table border=\"1\" class=\"dataframe\">\n",
       "  <thead>\n",
       "    <tr style=\"text-align: right;\">\n",
       "      <th>Predicted</th>\n",
       "      <th>DNA</th>\n",
       "      <th>collagen</th>\n",
       "      <th>glycogen</th>\n",
       "      <th>lipids</th>\n",
       "    </tr>\n",
       "    <tr>\n",
       "      <th>Actual</th>\n",
       "      <th></th>\n",
       "      <th></th>\n",
       "      <th></th>\n",
       "      <th></th>\n",
       "    </tr>\n",
       "  </thead>\n",
       "  <tbody>\n",
       "    <tr>\n",
       "      <th>DNA</th>\n",
       "      <td>9</td>\n",
       "      <td>11</td>\n",
       "      <td>0</td>\n",
       "      <td>0</td>\n",
       "    </tr>\n",
       "    <tr>\n",
       "      <th>collagen</th>\n",
       "      <td>0</td>\n",
       "      <td>42</td>\n",
       "      <td>0</td>\n",
       "      <td>0</td>\n",
       "    </tr>\n",
       "    <tr>\n",
       "      <th>glycogen</th>\n",
       "      <td>0</td>\n",
       "      <td>0</td>\n",
       "      <td>47</td>\n",
       "      <td>0</td>\n",
       "    </tr>\n",
       "    <tr>\n",
       "      <th>lipids</th>\n",
       "      <td>0</td>\n",
       "      <td>0</td>\n",
       "      <td>0</td>\n",
       "      <td>38</td>\n",
       "    </tr>\n",
       "  </tbody>\n",
       "</table>\n",
       "</div>"
      ],
      "text/plain": [
       "Predicted  DNA  collagen  glycogen  lipids\n",
       "Actual                                    \n",
       "DNA          9        11         0       0\n",
       "collagen     0        42         0       0\n",
       "glycogen     0         0        47       0\n",
       "lipids       0         0         0      38"
      ]
     },
     "execution_count": 22,
     "metadata": {},
     "output_type": "execute_result"
    }
   ],
   "source": [
    "cm = pd.crosstab(pd.Series(y_test, name='Actual'), pd.Series(y_pred, name='Predicted'))\n",
    "cm"
   ]
  },
  {
   "cell_type": "code",
   "execution_count": 25,
   "id": "f6a1d143-aeb2-4854-babd-e2a1d238aa1a",
   "metadata": {
    "deletable": false,
    "editable": false,
    "nbgrader": {
     "cell_type": "code",
     "checksum": "690db61d6657aefb7fbf512c361b73a8",
     "grade": true,
     "grade_id": "cell-bde6a2570713d7c3",
     "locked": true,
     "points": 4,
     "schema_version": 3,
     "solution": false,
     "task": false
    }
   },
   "outputs": [
    {
     "name": "stdout",
     "output_type": "stream",
     "text": [
      "No errrors found this far, your code may work :)\n"
     ]
    }
   ],
   "source": [
    "import sklearn\n",
    "errorfound=False\n",
    "require=('est', 'accuracy', 'cv_accuracy', 'cm')\n",
    "for var in require:\n",
    "    if var not in globals():\n",
    "        print(var, \"not found! Please define it.\")\n",
    "        errorfound=True\n",
    "\n",
    "if type(est) != sklearn.ensemble.ExtraTreesClassifier:\n",
    "    print(\"The classifier is of wrong type\")\n",
    "    errorfound=1\n",
    "if not errorfound:\n",
    "    print(\"No errrors found this far, your code may work :)\")\n"
   ]
  },
  {
   "cell_type": "markdown",
   "id": "902d2ca3-e471-44d7-b378-30e67c4004d5",
   "metadata": {},
   "source": [
    "## Task 2, optimize the classifier\n",
    "\n",
    "Lets try now to find optimal parameters controlling the model (=hyperparameters) for the classifier with grid search CV. Search the parameters:\n",
    " - `n_estimators`\n",
    " - `max_depth` and\n",
    " - `min_samples_split`\n",
    "\n",
    "Use the previously used extratrees classifier as a starting point\n",
    "\n",
    "Name your variables according to the following table, in order to make the autograder tests to work:\n",
    "\n",
    "| Variable | Name |\n",
    "| -------- | ------|\n",
    "| Tunable parameters structure | `params` |\n",
    "| Grid search object | `cv_est` |"
   ]
  },
  {
   "cell_type": "code",
   "execution_count": 27,
   "id": "d716cc7b-67e3-4113-a16f-976c9b8fca88",
   "metadata": {
    "deletable": false,
    "nbgrader": {
     "cell_type": "code",
     "checksum": "0ee63314323978f340ddebb665a0811d",
     "grade": false,
     "grade_id": "cell-7fce41d98632a7d5",
     "locked": false,
     "schema_version": 3,
     "solution": true,
     "task": false
    }
   },
   "outputs": [],
   "source": [
    "from sklearn.model_selection import GridSearchCV"
   ]
  },
  {
   "cell_type": "code",
   "execution_count": 28,
   "id": "a547a089",
   "metadata": {},
   "outputs": [],
   "source": [
    "# Define the tunable parameters structure for the Grid Search\n",
    "params = {\n",
    "    'n_estimators': [10, 50, 100],\n",
    "    'max_depth': [3, 6, 9, 12],\n",
    "    'min_samples_split': [2, 5, 10]\n",
    "}"
   ]
  },
  {
   "cell_type": "code",
   "execution_count": 29,
   "id": "e2e737f3",
   "metadata": {},
   "outputs": [
    {
     "name": "stdout",
     "output_type": "stream",
     "text": [
      "Best Parameters: {'max_depth': 6, 'min_samples_split': 2, 'n_estimators': 50}\n"
     ]
    }
   ],
   "source": [
    "cv_est = GridSearchCV(est, param_grid=params, cv=3)\n",
    "cv_est.fit(X_train, y_train)  # Assuming X, y are your features and labels\n",
    "\n",
    "# Get the best parameters\n",
    "best_params = cv_est.best_params_\n",
    "print(\"Best Parameters:\", best_params)"
   ]
  },
  {
   "cell_type": "code",
   "execution_count": 30,
   "id": "c71d7f7d-dd74-4425-980c-e5995df26e8f",
   "metadata": {
    "deletable": false,
    "editable": false,
    "nbgrader": {
     "cell_type": "code",
     "checksum": "80c76637eb08ebe76f746f8cc69a62af",
     "grade": true,
     "grade_id": "cell-c6a9385f6d2122ad",
     "locked": true,
     "points": 3,
     "schema_version": 3,
     "solution": false,
     "task": false
    }
   },
   "outputs": [],
   "source": [
    "errorfound=False\n",
    "require=('params', 'cv_est')\n",
    "for var in require:\n",
    "    if var not in globals():\n",
    "        print(var, \"not found! Please define it.\")\n",
    "        errorfound=True\n",
    "        "
   ]
  },
  {
   "cell_type": "markdown",
   "id": "a62b2e9f-d103-41ad-ad52-f9af4270bd93",
   "metadata": {},
   "source": [
    "## Task 3\n",
    "\n",
    "Having trained your estimator, check what where the optimal parameters, and compare the CV-accuracy with the previous model and plot the confusion matrix with crosstab as well. Did it improve?\n",
    "\n",
    "Notice that you will find the optimised estimator as `cv_est.best_estimator_`, and you can see all its parameters with `est_opt.get_params()`.\n",
    "\n",
    "Name your variables according to the following table, in order to make the autograder tests to work:\n",
    "\n",
    "| Variable | Name |\n",
    "| -------- | ------|\n",
    "| Optimal, tuned predictor | `est_opt` |\n",
    "| Cross validation accuracy | `cv_opt` |\n",
    "| Confusion matrix  | `cm_opt` |"
   ]
  },
  {
   "cell_type": "code",
   "execution_count": 32,
   "id": "f37e5398-e32c-4b17-8aa3-d1414550cd53",
   "metadata": {
    "deletable": false,
    "nbgrader": {
     "cell_type": "code",
     "checksum": "12182ea59d767994edf548d5ef2a4bb3",
     "grade": false,
     "grade_id": "cell-753f173f83201304",
     "locked": false,
     "schema_version": 3,
     "solution": true,
     "task": false
    }
   },
   "outputs": [],
   "source": [
    "est_opt = cv_est.best_estimator_\n",
    "best_params = est_opt.get_params()"
   ]
  },
  {
   "cell_type": "code",
   "execution_count": 33,
   "id": "28127714",
   "metadata": {},
   "outputs": [],
   "source": [
    "cv_scores_opt = cross_val_score(est_opt, X_train, y_train, cv=3)\n",
    "cv_opt = np.mean(cv_scores_opt)\n",
    "y_pred_opt = est_opt.predict(X_test)"
   ]
  },
  {
   "cell_type": "code",
   "execution_count": 36,
   "id": "c232f357",
   "metadata": {},
   "outputs": [
    {
     "data": {
      "text/plain": [
       "0.9725967045554674"
      ]
     },
     "execution_count": 36,
     "metadata": {},
     "output_type": "execute_result"
    }
   ],
   "source": [
    "cv_opt"
   ]
  },
  {
   "cell_type": "code",
   "execution_count": 35,
   "id": "a939392a",
   "metadata": {},
   "outputs": [],
   "source": [
    "cm_opt = pd.crosstab(pd.Series(y_test, name='Actual'), pd.Series(y_pred_opt, name='Predicted'))"
   ]
  },
  {
   "cell_type": "code",
   "execution_count": 37,
   "id": "df6e185b",
   "metadata": {},
   "outputs": [
    {
     "data": {
      "text/html": [
       "<div>\n",
       "<style scoped>\n",
       "    .dataframe tbody tr th:only-of-type {\n",
       "        vertical-align: middle;\n",
       "    }\n",
       "\n",
       "    .dataframe tbody tr th {\n",
       "        vertical-align: top;\n",
       "    }\n",
       "\n",
       "    .dataframe thead th {\n",
       "        text-align: right;\n",
       "    }\n",
       "</style>\n",
       "<table border=\"1\" class=\"dataframe\">\n",
       "  <thead>\n",
       "    <tr style=\"text-align: right;\">\n",
       "      <th>Predicted</th>\n",
       "      <th>DNA</th>\n",
       "      <th>collagen</th>\n",
       "      <th>glycogen</th>\n",
       "      <th>lipids</th>\n",
       "    </tr>\n",
       "    <tr>\n",
       "      <th>Actual</th>\n",
       "      <th></th>\n",
       "      <th></th>\n",
       "      <th></th>\n",
       "      <th></th>\n",
       "    </tr>\n",
       "  </thead>\n",
       "  <tbody>\n",
       "    <tr>\n",
       "      <th>DNA</th>\n",
       "      <td>18</td>\n",
       "      <td>2</td>\n",
       "      <td>0</td>\n",
       "      <td>0</td>\n",
       "    </tr>\n",
       "    <tr>\n",
       "      <th>collagen</th>\n",
       "      <td>0</td>\n",
       "      <td>42</td>\n",
       "      <td>0</td>\n",
       "      <td>0</td>\n",
       "    </tr>\n",
       "    <tr>\n",
       "      <th>glycogen</th>\n",
       "      <td>0</td>\n",
       "      <td>0</td>\n",
       "      <td>47</td>\n",
       "      <td>0</td>\n",
       "    </tr>\n",
       "    <tr>\n",
       "      <th>lipids</th>\n",
       "      <td>0</td>\n",
       "      <td>0</td>\n",
       "      <td>0</td>\n",
       "      <td>38</td>\n",
       "    </tr>\n",
       "  </tbody>\n",
       "</table>\n",
       "</div>"
      ],
      "text/plain": [
       "Predicted  DNA  collagen  glycogen  lipids\n",
       "Actual                                    \n",
       "DNA         18         2         0       0\n",
       "collagen     0        42         0       0\n",
       "glycogen     0         0        47       0\n",
       "lipids       0         0         0      38"
      ]
     },
     "execution_count": 37,
     "metadata": {},
     "output_type": "execute_result"
    }
   ],
   "source": [
    "cm_opt"
   ]
  },
  {
   "cell_type": "code",
   "execution_count": 39,
   "id": "ec8e1384-d2db-40ab-956f-073d0588ef11",
   "metadata": {
    "deletable": false,
    "editable": false,
    "nbgrader": {
     "cell_type": "code",
     "checksum": "dbb20f121cd8da83266da7353aae56b2",
     "grade": true,
     "grade_id": "cell-3d0ab546dec66f03",
     "locked": true,
     "points": 3,
     "schema_version": 3,
     "solution": false,
     "task": false
    }
   },
   "outputs": [],
   "source": [
    "errorfound=False\n",
    "require=('est_opt', 'cv_opt', 'cm_opt')\n",
    "for var in require:\n",
    "    if var not in globals():\n",
    "        print(var, \"not found! Please define it.\")\n",
    "        errorfound=True\n",
    "        "
   ]
  }
 ],
 "metadata": {
  "kernelspec": {
   "display_name": "Python 3 (ipykernel)",
   "language": "python",
   "name": "python3"
  },
  "language_info": {
   "codemirror_mode": {
    "name": "ipython",
    "version": 3
   },
   "file_extension": ".py",
   "mimetype": "text/x-python",
   "name": "python",
   "nbconvert_exporter": "python",
   "pygments_lexer": "ipython3",
   "version": "3.9.13"
  }
 },
 "nbformat": 4,
 "nbformat_minor": 5
}
